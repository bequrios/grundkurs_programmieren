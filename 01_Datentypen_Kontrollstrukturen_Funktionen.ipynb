{
 "cells": [
  {
   "cell_type": "markdown",
   "id": "254f30ce",
   "metadata": {},
   "source": [
    "<img src=\"img/DN.png\" style=\"float:right;width:150px\">\n",
    "\n",
    "Datentypen, Kontrollstrukturen und Funktionen\n",
    "\n",
    "# Übungen in dieser Lektion\n",
    "\n",
    "* [Datentyp bestimmen](#Aufgabe1)\n",
    "* [Datentyp ändern](#Aufgabe2)\n",
    "* [If Verzweigung](#Aufgabe3)\n",
    "* [While Schleife](#Aufgabe4)\n",
    "* [For Schleife](#Aufgabe5)\n",
    "* [Selbst definierte Funktion](#Aufgabe6)\n",
    "* [Schlussaufgabe](#Aufgabe7)\n",
    "\n",
    "# Datentypen\n",
    "\n",
    "Python kennt verschiedene Typen von Variablen, sog. **Datentypen**. Verschiedene Datentypen bieten verschiedene Möglichkeiten. Der wichtigste Unterschied ist zwischen Variablen, die *Text* speichern und Variablen, die *Zahlen* speichern können. Mit Zahlen kann man rechnen, mit Zeichen grundsätzlich nicht.\n",
    "\n",
    "## Strings und Numbers\n",
    "\n",
    "Variablen vom Typ *Text* werden als **Strings** bezeichnet. Bei Variablen vom Typ *Zahl* sind insbesondere **Integers** (ganze Zahlen) und **Floats** (Zahlen mit Nachkommastellen) wichtig.\n",
    "\n",
    "Der Typ der Variable wird in Python automatisch zugewiesen, sobald einer Variable ein Wert zugewiesen wird. Der Typ einer Variable kann mit Hilfe der Funktion `type()` ermittelt werden\n"
   ]
  },
  {
   "cell_type": "code",
   "execution_count": 39,
   "id": "cee1647d",
   "metadata": {},
   "outputs": [
    {
     "name": "stdout",
     "output_type": "stream",
     "text": [
      "<class 'int'>\n"
     ]
    }
   ],
   "source": [
    "zahl = 42\n",
    "print(type(zahl))"
   ]
  },
  {
   "cell_type": "code",
   "execution_count": 41,
   "id": "6bf3ceed",
   "metadata": {},
   "outputs": [
    {
     "name": "stdout",
     "output_type": "stream",
     "text": [
      "<class 'str'>\n"
     ]
    }
   ],
   "source": [
    "text = \"Python ist grossartig\"\n",
    "print(type(text))"
   ]
  },
  {
   "cell_type": "markdown",
   "id": "ef3718a6",
   "metadata": {
    "tags": []
   },
   "source": [
    "<div id=\"Aufgabe1\" style=\"margin:0px; padding:10px; border-style:solid; border-width:2px; border-color:green\">\n",
    "\n",
    "<img src=\"img/dumbbell.png\" style=\"float:right; width:100px\">\n",
    "\n",
    "<span style=\"padding:5px; border-radius:5px; background-color:green; color:white\">Aufgabe</span>\n",
    "\n",
    "Was ist der Unterschied zwischen den folgenden Variablen `x` und `y`?\n",
    "\n",
    "Prüfe Deine Vermutung mit Hilfe der `type()` Funktion.\n",
    "</div>"
   ]
  },
  {
   "cell_type": "code",
   "execution_count": 4,
   "id": "4e87dda3",
   "metadata": {
    "tags": []
   },
   "outputs": [
    {
     "name": "stdout",
     "output_type": "stream",
     "text": [
      "<class 'int'>\n",
      "<class 'str'>\n"
     ]
    }
   ],
   "source": [
    "x = 42\n",
    "y = \"42\"\n",
    "\n",
    "# Beginn eigener Code\n",
    "\n",
    "print(type(x))\n",
    "print(type(y))\n",
    "\n",
    "# Ende eigener Code"
   ]
  },
  {
   "cell_type": "markdown",
   "id": "0b008293",
   "metadata": {},
   "source": [
    "***"
   ]
  },
  {
   "cell_type": "markdown",
   "id": "b05fde73",
   "metadata": {},
   "source": [
    "Der Grund dafür, dass es verschiedene Datentypen braucht, ist unter anderem das obige Beispiel: 42 ist nicht das gleiche wie \"42\"! Mit 42 kann man rechnen."
   ]
  },
  {
   "cell_type": "code",
   "execution_count": null,
   "id": "e26cee9c",
   "metadata": {},
   "outputs": [],
   "source": [
    "print(10 + x )"
   ]
  },
  {
   "cell_type": "markdown",
   "id": "efba6172",
   "metadata": {},
   "source": [
    "Mit \"42\" kann man String Operationen durchführen, wie bspw. verschiedene Strings zu einem einzigen zusammenhängen. Diese Operation nennt man **Stringkonkatenation**. Sie wird ebenfalls mit dem `+` Zeichen ausgelöst."
   ]
  },
  {
   "cell_type": "code",
   "execution_count": null,
   "id": "1135161c",
   "metadata": {},
   "outputs": [],
   "source": [
    "print(\"Hallo_\" + y)"
   ]
  },
  {
   "cell_type": "markdown",
   "id": "0e87412d",
   "metadata": {},
   "source": [
    "Was wird wohl passieren, wenn man eine Zahl mit einem String addieren möchte? Versuche die entstehende Fehlermeldung zu interpretieren."
   ]
  },
  {
   "cell_type": "code",
   "execution_count": null,
   "id": "7cbbc9b5",
   "metadata": {
    "tags": [
     "raises-exception"
    ]
   },
   "outputs": [],
   "source": [
    "print(10 + y)"
   ]
  },
  {
   "cell_type": "markdown",
   "id": "1680869f",
   "metadata": {},
   "source": [
    "Im Falle von `print(10 + y)` versucht Python, zu einer Zahl einen String zu addieren, was sinnvollerweise natürlich nicht möglich ist. Deshalb muss Python eine Fehlermeldung ausgeben."
   ]
  },
  {
   "cell_type": "markdown",
   "id": "7d210da6",
   "metadata": {
    "tags": []
   },
   "source": [
    "<div id=\"Aufgabe2\" style=\"margin:0px; padding:10px; border-style:solid; border-width:2px; border-color:green;\">\n",
    "\n",
    "<img src=\"img/dumbbell.png\" style=\"float:right; width:100px\">\n",
    "\n",
    "<span style=\"padding:5px; border-radius:5px; background-color:green; color:white\">Aufgabe</span>\n",
    "\n",
    "Eine typische Aufgabe ist es, aus einem String, der eine Zahl repräsentiert, wie bspw. `\"20.5\"` eine tatsächliche Zahl zu erzeugen, also hier ein Float. Wie kannst du aus dem String x ein Float y erzeugen? Tipp: Suche mit Hilfe deiner Lieblingssuchmaschine unter den Stichworten *python convert string to float*.\n",
    "\n",
    "</div>"
   ]
  },
  {
   "cell_type": "code",
   "execution_count": null,
   "id": "6ccf4c83",
   "metadata": {
    "tags": []
   },
   "outputs": [],
   "source": [
    "x = \"20.5\"\n",
    "print(type(x))\n",
    "\n",
    "# Beginn eigener Code\n",
    "\n",
    "y = float(x)\n",
    "print(type(y))\n",
    "print(y + 10)\n",
    "\n",
    "# Ende eigener Code"
   ]
  },
  {
   "cell_type": "markdown",
   "id": "059eb814",
   "metadata": {},
   "source": [
    "***"
   ]
  },
  {
   "cell_type": "markdown",
   "id": "f8e7bc8f",
   "metadata": {
    "jp-MarkdownHeadingCollapsed": true,
    "tags": []
   },
   "source": [
    "## Weitere Datentypen\n",
    "\n",
    "Weitere wichtige Datentypen sind **Booleans** für wahr/falsch resp. ja/nein Variablen und **Lists** und **Dictionaries**, welche wir in der nächsten Lektion behandeln werden.\n",
    "\n",
    "<div style=\"padding:10px; border-style:solid; border-width:1px\">\n",
    "\n",
    "Zusätzliche Infos zu **Datentypen** findest du bei <a href=\"https://www.w3schools.com/python/python_datatypes.asp\"><img src=\"img/w3schools.svg\" width=\"40px\"></a>\n",
    "    \n",
    "</div>"
   ]
  },
  {
   "cell_type": "markdown",
   "id": "5d6a506c",
   "metadata": {},
   "source": [
    "# Kontrollstrukturen\n",
    "\n",
    "Kontrollstrukturen erlauben, den Ablauf eines Programms zu steuern. Ohne Einsatz von Kontrollstrukturen (und Funktionen) würde dein Programm strikt von oben nach unten abgearbeitet werden. Die wichtigsten Kontrollstrukturen sind **Verzweigungen** und **Schleifen**. Die nachfolgende Abbildung zeigt solche Kontrollstrukturen in einer Flussdiagramm-Abbildung. Professionellerweise kann Software mit Hilfe der [Unified Modeling Language (UML)](https://de.wikipedia.org/wiki/Unified_Modeling_Language) dargestellt werden, das geht aber für unsere Zwecke zu weit.\n"
   ]
  },
  {
   "cell_type": "markdown",
   "id": "6e1123ac",
   "metadata": {},
   "source": [
    "<img src=\"img/Datentypen_Kontrollstrukturen.svg\">"
   ]
  },
  {
   "cell_type": "markdown",
   "id": "ad33f015",
   "metadata": {},
   "source": [
    "## If Verzweigung\n",
    "\n",
    "Die fundamentalste Kontrollstruktur ist die Verzweigung resp. bedingte Anweisung mit Hilfe einer **If Verzweigung**.\n"
   ]
  },
  {
   "cell_type": "code",
   "execution_count": null,
   "id": "93829003",
   "metadata": {},
   "outputs": [],
   "source": [
    "x = 42\n",
    "\n",
    "if x > 20:\n",
    "    print(\"riesige Zahl\") # wird nur ausgeführt, wenn die Bedingung wahr ist\n",
    "else:\n",
    "    print(\"kleine Zahl\") # wird nur ausgeführt, wenn die Bedingung falsch ist\n",
    "\n",
    "print(\"alle Zahlen sind schön\") # wird immer ausgeführt, da ausserhalb der If Verzweigung"
   ]
  },
  {
   "cell_type": "markdown",
   "id": "adb453fc",
   "metadata": {},
   "source": [
    "Die möglichen Bedingungen, wie bspw. \"gleich\" oder \"ungleich\" resp. \"kleiner-gleich\" sind mit den üblichen Operatoren `a == b`, `a != b`, `a <= b` verfügbar. Das Ausrufezeichen bedeutet dabei immer \"nicht\" und für Gleichheitsprüfungen ist es wichtig, das doppelte Gleichheitszeichen zu nehmen, weil das einfache Gleichheitszeichen ist der **Zuweisungsoperator**, der einer Variable einen Wert zuweist. \n",
    "\n",
    "<div style=\"padding:10px; border-style:solid; border-width:1px\">\n",
    "\n",
    "Weitere Infos zur **If Verzweigungen** findest du bei <a href=\"https://www.w3schools.com/python/python_conditions.asp\"><img src=\"img/w3schools.svg\" width=\"40px\"></a>\n",
    "    \n",
    "</div>"
   ]
  },
  {
   "cell_type": "markdown",
   "id": "9c2e9e0c",
   "metadata": {
    "tags": []
   },
   "source": [
    "<div id=\"Aufgabe3\" style=\"margin:0px; padding:10px; border-style:solid; border-width:2px; border-color:green;\">\n",
    "\n",
    "<img src=\"img/dumbbell.png\" style=\"float:right; width:100px\">\n",
    "\n",
    "<span style=\"padding:5px; border-radius:5px; background-color:green; color:white\">Aufgabe</span>\n",
    "\n",
    "Erstelle mit Hilfe einer If Verzweigung ein Programm, welches zwei Zahlen vergleicht und je nachdem ausgibt \"a ist grösser als b\", \"a ist gleich b\" oder \"a ist kleiner als b\". Tipp: Dieses Problem kannst du entweder mit mehreren oder verschachtelten If Verzweigungen lösen oder mit einer `if/elif/else` Verzweigung.\n",
    "\n",
    "</div>"
   ]
  },
  {
   "cell_type": "code",
   "execution_count": null,
   "id": "4586620f",
   "metadata": {
    "tags": []
   },
   "outputs": [],
   "source": [
    "a = 42\n",
    "b = 3.141592653589793\n",
    "\n",
    "# Beginn eigener Code\n",
    "\n",
    "if a > b:\n",
    "    print(\"a ist grösser als b\")\n",
    "elif a == b:\n",
    "    print(\"a ist gleich b\")\n",
    "else:\n",
    "    print(\"a ist kleiner als b\")\n",
    "\n",
    "# Ende eigener Code"
   ]
  },
  {
   "cell_type": "markdown",
   "id": "ef12c058",
   "metadata": {},
   "source": [
    "***"
   ]
  },
  {
   "cell_type": "markdown",
   "id": "1adf5d18",
   "metadata": {},
   "source": [
    "## While Schleife\n",
    "\n",
    "Die While Schleife führt die Schleife solange aus, als eine bestimmte Bedingung wahr ist. Man weiss also nicht zwingend im Voraus, wie häufig die Schleife durchlaufen wird. Die Prüfung der Bedingung wird dabei jeweils vor dem Durchlauf der Schleife ausgeführt:"
   ]
  },
  {
   "cell_type": "code",
   "execution_count": null,
   "id": "5ff39f90",
   "metadata": {},
   "outputs": [],
   "source": [
    "from random import randrange\n",
    "\n",
    "x = 1\n",
    "\n",
    "while x < 100:\n",
    "    print(x)\n",
    "    x = x + randrange(10)"
   ]
  },
  {
   "cell_type": "markdown",
   "id": "92ee79f6",
   "metadata": {},
   "source": [
    "Die Funktion `randrange(10)` erzeugt dabei bei jedem Aufruf eine Ganzzahl zwischen 0 (inklusive) und 10 (exklusive). Das Ausführen der obigen Zelle wird also jedesmal die Anzahl der nötigen Iterationen verändern. Um diese Funktion nutzen zu können, müssen wir sie zuerst importieren. Das geschieht mit dem Aufruf auf der ersten Zeile `from random import randrange`, dabei bezeichnet `random` ein sogenanntes Modul. Dazu werden wir später noch mehr lernen."
   ]
  },
  {
   "cell_type": "markdown",
   "id": "2bbb563f",
   "metadata": {},
   "source": [
    "<div id=\"Aufgabe4\" style=\"margin:0px; padding:10px; border-style:solid; border-width:2px; border-color:green;\">\n",
    "\n",
    "<img src=\"img/dumbbell.png\" style=\"float:right; width:100px\">\n",
    "\n",
    "<span style=\"padding:5px; border-radius:5px; background-color:green; color:white\">Aufgabe</span>\n",
    "\n",
    "Erstelle mit Hilfe einer While Schleife ein Programm, welches zu einer Zahl 0 eine Zufallszahl zwischen 0 und 1 addiert und erst abbricht, wenn die Zahl entweder grösser als 10 oder die Schleife bereits 20 mal durchlaufen wurde. Gib jeweils pro Schlaufendurchlauf mit einem `print()` Befehl den aktuellen Stand der Zahl und die Anzahl Durchläufe aus. Orientiere dich dabei am Quelltext oben.\n",
    "\n",
    "</div>"
   ]
  },
  {
   "cell_type": "code",
   "execution_count": null,
   "id": "e49a4a33",
   "metadata": {},
   "outputs": [],
   "source": [
    "# Beginn eigener Code\n",
    "\n",
    "from random import random\n",
    "\n",
    "x = 0\n",
    "counter = 0\n",
    "\n",
    "while x < 10 and counter < 20:\n",
    "    x += random()\n",
    "    counter += 1\n",
    "    print(\"Durchgang: \" + str(counter) + \", Zahl: \" + str(x))\n",
    "\n",
    "# Ende eigener Code"
   ]
  },
  {
   "cell_type": "markdown",
   "id": "2aff7573",
   "metadata": {},
   "source": [
    "***"
   ]
  },
  {
   "cell_type": "markdown",
   "id": "d11529b2",
   "metadata": {},
   "source": [
    "<div style=\"padding:10px; border-style:solid; border-width:1px\">\n",
    "\n",
    "Weitere Infos zur **While Schleife** findest du bei <a href=\"https://www.w3schools.com/python/python_while_loops.asp\"><img src=\"img/w3schools.svg\" width=\"40px\"></a>\n",
    "    \n",
    "</div>"
   ]
  },
  {
   "cell_type": "markdown",
   "id": "187c6fe5",
   "metadata": {},
   "source": [
    "## For Schleife\n",
    "\n",
    "Die For Schleife dient primär dazu, über die einzelnen Elemente eines Objektes zu iterieren. Das Objekt muss eine sogenannte **Sequence** wie beispielsweise ein Objekt vom Typ String sein. Im Falle einer Iteration über einen String wird jeweils über die einzelnen Buchstaben iteriert. Die For Schleife braucht dabei zwei Angaben: Über welches Objekt wird iteriert und unter welcher Variable soll das jeweilige Element der Iteration innerhalb der For Schleife verfügbar sein. Der Syntax lautet: `for` Element `in` Objekt`:`. Bei jedem Durchlauf wird dann ein anderes Element aus dem Objekt unter der Variable des Elements verfügbar sein."
   ]
  },
  {
   "cell_type": "code",
   "execution_count": 5,
   "id": "ad1653e7",
   "metadata": {},
   "outputs": [
    {
     "name": "stdout",
     "output_type": "stream",
     "text": [
      "y\n",
      "e\n",
      "s\n",
      " \n",
      "P\n",
      "y\n",
      "t\n",
      "h\n",
      "o\n",
      "n\n",
      " \n",
      "c\n",
      "a\n",
      "n\n",
      "!\n"
     ]
    }
   ],
   "source": [
    "satz = \"yes Python can!\"\n",
    "for zeichen in satz:\n",
    "    print(zeichen)"
   ]
  },
  {
   "cell_type": "markdown",
   "id": "2d788d6f",
   "metadata": {},
   "source": [
    "Häufig möchte man innerhalb der Schleife auf den Index der jeweiligen Iteration zugreifen können. Man möchte also feststellen können, die wievielte Iteration im Moment gerade ausgeführt wird. Dies kann mit Hilfe der Funktion `enumerate()` erreicht werden. Mit hilfe dieser Funktion kann eine `sequence` in ein `enumerate` Objekt transformiert werden. Dabei erhält jedes Element aus dem Objekt ein Index als Schlüsselwert. Auf diesen Schlüsselwert kann in einer Schleife ebenfalls zugegriffen werden, dazu müssen der For Schleife allerdings neben dem Objekt zwei weitere Variablen übergeben werden: Der Index und das eigentliche Element (per Komma getrennt):"
   ]
  },
  {
   "cell_type": "code",
   "execution_count": 6,
   "id": "aaa4f6e7",
   "metadata": {},
   "outputs": [
    {
     "name": "stdout",
     "output_type": "stream",
     "text": [
      "0 y\n",
      "1 e\n",
      "2 s\n",
      "3  \n",
      "4 P\n",
      "5 y\n",
      "6 t\n",
      "7 h\n",
      "8 o\n",
      "9 n\n",
      "10  \n",
      "11 c\n",
      "12 a\n",
      "13 n\n",
      "14 !\n"
     ]
    }
   ],
   "source": [
    "for index, zeichen in enumerate(satz):\n",
    "    print(index, zeichen)"
   ]
  },
  {
   "cell_type": "markdown",
   "id": "e477925d",
   "metadata": {},
   "source": [
    "Der `print()` befehl ist dabei genügend mächtig, dass er den übergebenen Index, der eigentlich ein `int` ist, selbstständig in ein String umwandelt. Manchmal möchte man aber nicht direkt ein Objekt iterieren, sondern man weiss genau, dass man eine For Schleife eine bestimmte Anzahl mal durchlaufen möchte. Dafür gibt es die `range()` Funktion. Diese erzeugt eine `sequence` mit einer bestimmten Anzahl Zahlen:"
   ]
  },
  {
   "cell_type": "code",
   "execution_count": null,
   "id": "c0356db6",
   "metadata": {},
   "outputs": [],
   "source": [
    "r = range(6)\n",
    "for x in r:\n",
    "    print(x)"
   ]
  },
  {
   "cell_type": "markdown",
   "id": "228637dd",
   "metadata": {},
   "source": [
    "Dabei gilt es zu beachten, dass `range()` bei 0 startet und nicht bei 1 und der übergebene Endwert immer exklusiv ist, also nicht mehr in der `sequence` enthalten. Man kann auch weitere Parameter übergeben und damit Start, Stop, und Inkrement bestimmen:"
   ]
  },
  {
   "cell_type": "code",
   "execution_count": null,
   "id": "71b15335",
   "metadata": {},
   "outputs": [],
   "source": [
    "for x in range(10, 55, 5):\n",
    "    print(x)"
   ]
  },
  {
   "cell_type": "markdown",
   "id": "06329c65",
   "metadata": {},
   "source": [
    "<div id=\"Aufgabe5\" style=\"margin:0px; padding:10px; border-style:solid; border-width:2px; border-color:green;\">\n",
    "\n",
    "<img src=\"img/dumbbell.png\" style=\"float:right; width:100px\">\n",
    "\n",
    "<span style=\"padding:5px; border-radius:5px; background-color:green; color:white\">Aufgabe</span>\n",
    "\n",
    "Erstelle mit Hilfe einer For Schleife ein Programm, welches die Zahlen von 1 bis und mit 100 zusammenzählt. Für Mathematik-Freund*innen: Gäbe es dafür auch einen einfacheren Weg als die For-Schleife? Teste dazu die Zahlen bis 10, 100, 1000 und versuche eine Regelmässigkeit abzuleiten...\n",
    "\n",
    "</div>"
   ]
  },
  {
   "cell_type": "code",
   "execution_count": null,
   "id": "f02ae5e8",
   "metadata": {},
   "outputs": [],
   "source": [
    "# Beginn eigener Code\n",
    "\n",
    "sum = 0\n",
    "\n",
    "for x in range(1,101):\n",
    "    sum += x\n",
    "    \n",
    "print(sum)\n",
    "\n",
    "# Ende eigener Code"
   ]
  },
  {
   "cell_type": "markdown",
   "id": "69fda80f",
   "metadata": {},
   "source": [
    "***"
   ]
  },
  {
   "cell_type": "markdown",
   "id": "f467447b",
   "metadata": {},
   "source": [
    "<div style=\"padding:10px; border-style:solid; border-width:1px\">\n",
    "\n",
    "Weitere Infos zur **For Schleife** findest du bei <a href=\"https://www.w3schools.com/python/python_for_loops.asp\"><img src=\"img/w3schools.svg\" width=\"40px\"></a>\n",
    "    \n",
    "</div>"
   ]
  },
  {
   "cell_type": "markdown",
   "id": "f2af26cd",
   "metadata": {},
   "source": [
    "# Funktionen\n",
    "\n",
    "Funktionen sind eine weitere Möglichkeit, den Programmablauf zu beinflussen. Funktionen werden unter anderem dazu benutzt, den Quellcode übersichtlicher zu gestalten und besser zu strukturieren. Ausserdem lassen sich mit Funktionen Wiederholungen im Quelltext verhindern (genau wie mit Schleifen).\n",
    "\n",
    "Funktionen können beliebig komplex sein, allerdings versucht man tendentiell eher, Funktionen einfach und übersichtlich zu halten und pro Funktion nur eine ganz genau definierte, zusammenhängede Aufgabe auszuführen.\n",
    "\n",
    "## Selbst definierte Funktionen\n",
    "\n",
    "Funktionen müssen zuerst **definiert** werden, anschliessend können sie an beliebigen Orten innerhalb des Quellcodes **aufgerufen** werden."
   ]
  },
  {
   "cell_type": "code",
   "execution_count": null,
   "id": "5be39da4",
   "metadata": {},
   "outputs": [],
   "source": [
    "# Funktionsdefinition\n",
    "def bestimme_maximum():\n",
    "    a = 100\n",
    "    b = 50\n",
    "    if a > b:\n",
    "        print(\"die grössere Zahl ist a\")\n",
    "    if a < b:\n",
    "        print(\"die grössere Zahl ist b\")\n",
    "    if a == b:\n",
    "        print(\"beide Zahlen sind gleich gross\")"
   ]
  },
  {
   "cell_type": "markdown",
   "id": "df13e92b",
   "metadata": {},
   "source": [
    "Alleine mit der Funktionsdefinition passiert noch gar nichts, die Funktion muss zuerst aufgerufen werden mit Hilfe des Namens der Funktion:"
   ]
  },
  {
   "cell_type": "code",
   "execution_count": null,
   "id": "d48f9eae",
   "metadata": {},
   "outputs": [],
   "source": [
    "# Funktionsaufruf\n",
    "bestimme_maximum()"
   ]
  },
  {
   "cell_type": "markdown",
   "id": "763d3f29",
   "metadata": {},
   "source": [
    "Jetzt machen Funktionen, die man überhaupt nicht beeinflussen kann und die jedes mal das genau gleiche Ergebnis zurückgeben in der Realität meistens keinen Sinn. Unsere Funktion `bestimme_maximum()` wird jedes mal das gleiche Resultat ausgeben. Darum verwenden Funktionen typischerweise sogenannte **Argumente** resp. **Parameter**. Man kann also der Funktion bei jedem Aufruf Zusatzinformationen weitergeben: "
   ]
  },
  {
   "cell_type": "code",
   "execution_count": null,
   "id": "6f10c939",
   "metadata": {},
   "outputs": [],
   "source": [
    "# Funktionsdefinition\n",
    "def bestimme_maximum(a, b):\n",
    "    if a > b:\n",
    "        print(\"die grössere Zahl ist a\")\n",
    "    if a < b:\n",
    "        print(\"die grössere Zahl ist b\")\n",
    "    if a == b:\n",
    "        print(\"beide Zahlen sind gleich gross\")\n",
    "        \n",
    "# mehrfacher Funktionsaufruf mit unterschiedlichen Werten für die Argumente\n",
    "bestimme_maximum(10, 100)\n",
    "bestimme_maximum(100, 10)\n",
    "bestimme_maximum(-1, 0)"
   ]
  },
  {
   "cell_type": "markdown",
   "id": "20c744b2",
   "metadata": {},
   "source": [
    "Der Unterschied zwischen Argumenten und Parametern ist folgendermassen: Die Variablen `a` und `b` werden als Parameter der Funktion bezeichnet, im Falle des Aufrufes der Funktion mit `bestimme_maximum(10, 100)` sind 10 und 100 die Argumente welche für die Parameter gesetzt werden, überall wo in der Funktionsdefinition also `a` vorkommt, wird dann dafür 10 eingesetzt und für `b` entsprechend 100. Im Alltag werden diese beiden Begriffe häufig als Synonym verwendet, was meist kein Problem darstellt. Die Anzahl der übergebenen Argumente hängt von der Funktionsdefinition ab, diese kann eine beliebe Anzahl verwenden. Etwas verwirrlich ist, dass man statt einem direkten Wert als Argument für den Parameter auch eine Variable übergeben kann, es wird dann der eigentliche Wert der Variable als Argument für den Parameter verwendet:"
   ]
  },
  {
   "cell_type": "code",
   "execution_count": null,
   "id": "67d57e21",
   "metadata": {},
   "outputs": [],
   "source": [
    "zahl_1 = 100\n",
    "zahl_2 = 10\n",
    "\n",
    "# Funktionsaufruf\n",
    "bestimme_maximum(zahl_1, zahl_2)"
   ]
  },
  {
   "cell_type": "markdown",
   "id": "d151e84e",
   "metadata": {},
   "source": [
    "Funktionen können einen sogenannten Rückgabewert aufweisen, damit kann man eine Funktion resp. deren Rückgabewert in einer Variable speichern. Meist soll die Funktion nämlich nicht per `print()` irgendeine Ausgabe auf den Bildschirm machen, sondern man möchte einen Wert haben, mit dem man programmatisch weiterarbeiten kann. Ein solcher Rückgabewert wird mit dem Schlüsselwort `return` erstellt:"
   ]
  },
  {
   "cell_type": "code",
   "execution_count": null,
   "id": "13c911b0",
   "metadata": {},
   "outputs": [],
   "source": [
    "def bestimme_maximum(a, b):\n",
    "    if a > b:\n",
    "        return a\n",
    "    else:\n",
    "        return b\n",
    "\n",
    "maximum = bestimme_maximum(10, 100)\n",
    "print(maximum)"
   ]
  },
  {
   "cell_type": "markdown",
   "id": "623b2ebb",
   "metadata": {
    "tags": []
   },
   "source": [
    "<div id=\"Aufgabe6\" style=\"margin:0px; padding:10px; border-style:solid; border-width:2px; border-color:green;\">\n",
    "\n",
    "<img src=\"img/dumbbell.png\" style=\"float:right; width:100px\">\n",
    "\n",
    "<span style=\"padding:5px; border-radius:5px; background-color:green; color:white\">Aufgabe</span>\n",
    "\n",
    "Definiere eine Funktion `verdoppeln(x)`, welche einen Parameter x aufweist. Der Wert für x soll in der Funktion verdoppelt werden und das Resultat anschliessend zurückgegeben werden."
   ]
  },
  {
   "cell_type": "code",
   "execution_count": null,
   "id": "27dfd471",
   "metadata": {
    "tags": []
   },
   "outputs": [],
   "source": [
    "# Beginn eigener Code\n",
    "\n",
    "def verdoppeln(x):\n",
    "    return x * 2\n",
    "\n",
    "print(verdoppeln(2))\n",
    "\n",
    "# Ende eigener Code"
   ]
  },
  {
   "cell_type": "markdown",
   "id": "aaab78b1",
   "metadata": {},
   "source": [
    "***"
   ]
  },
  {
   "cell_type": "markdown",
   "id": "a82b2ffb",
   "metadata": {},
   "source": [
    "## Integrierte Funktionen\n",
    "\n",
    "Wir haben bis jetzt schon implizit mit Funktionen in Python gearbeitet, bspw. mit der Funktion `print()`, diese Funktion nimmt als Parameter eine Variable und gibt den Inhalt ebendieser auf dem Bildschirm aus. Wir haben aber `print()` nicht selber definiert, genau so wenig wie `type()`. Python kommt mit einer Fülle von bereits definierten Funktionen, um das Leben als Programmiererin einfacher zu machen. Beachte: Integrierte Funktionen von Python werden im Quelltext <span style=\"color:green;font-family:monospace\">grün</span> dargestellt, selbst definierte <span style=\"color:blue;font-family:monospace\">blau</span>. Natürlich gibt es auch für das Finden des Maximums eine bereits integrierte Funktion:"
   ]
  },
  {
   "cell_type": "code",
   "execution_count": null,
   "id": "3a848c87",
   "metadata": {},
   "outputs": [],
   "source": [
    "max(42, 3.1415)"
   ]
  },
  {
   "cell_type": "markdown",
   "id": "88ced623",
   "metadata": {},
   "source": [
    "<div style=\"padding:10px; border-style:solid; border-width:1px\">\n",
    "\n",
    "Weitere Infos zu **Funktionen** findest du bei <a href=\"https://www.w3schools.com/python/python_functions.asp\"><img src=\"img/w3schools.svg\" width=\"40px\"></a>\n",
    "    \n",
    "</div>"
   ]
  },
  {
   "cell_type": "markdown",
   "id": "4ed892e7",
   "metadata": {},
   "source": [
    "# Scope\n",
    "\n",
    "Ein wichtiges Konzept beim Programmieren ist der sogenannte **Scope**. Gemeint ist damit der Bereich, in welchem eine bestimmte Variable definiert ist. Es wird grundsätzlich der **globale** und der **lokale** Scope unterschieden. Variablen, die nur in einem lokalen Scope definiert wurden, sind im globalen Scope nicht verfügbar (weder um einen Wert auszulesen, noch um einen zuzuweisen). Der Grund für die Existenz eines lokalen Scopes ist unter anderem die Tatsache, dass man bei etwas komplexeren Programmen sofort mit unzähligen Variablen zu tun hat und man riskiert, unerwünschte Rückwirkungen zwischen gleich benannten Variablen zu haben.\n",
    "\n",
    "Funktionen öffnen einen lokalen Scope und Variablen, die in einer Funktion definiert wurden, sind von ausserhalb der Funktion (aus dem globalen Scope) nicht verfügbar:"
   ]
  },
  {
   "cell_type": "code",
   "execution_count": null,
   "id": "58ab3d2a",
   "metadata": {
    "tags": [
     "raises-exception"
    ]
   },
   "outputs": [],
   "source": [
    "def meine_funktion():\n",
    "    lokale_variable = 1\n",
    "    print(lokale_variable)\n",
    "\n",
    "# gibt eine 1 aus, weil auf lokale_variable innerhalb der Funktion zugegriffen wird\n",
    "meine_funktion()    \n",
    "\n",
    "# ergibt einen Fehler, weil lokale_variable im globalen Scope (ausserhalb der Funktion) nicht verfügbar ist\n",
    "print(lokale_variable)"
   ]
  },
  {
   "cell_type": "markdown",
   "id": "f582ee1b",
   "metadata": {},
   "source": [
    "Innerhalb einer Funktion kann man aber problemlos auf eine globale Variable zugreifen:"
   ]
  },
  {
   "cell_type": "code",
   "execution_count": null,
   "id": "8f27c3e0",
   "metadata": {},
   "outputs": [],
   "source": [
    "globale_variable = 57\n",
    "\n",
    "def meine_funktion():\n",
    "    print(globale_variable)\n",
    "    \n",
    "meine_funktion()"
   ]
  },
  {
   "cell_type": "markdown",
   "id": "ce0564ae",
   "metadata": {},
   "source": [
    "Möchte man innerhalb einer Funktion eine globale Variable verändern (etwas das man eigentlich vermeiden möchte) oder eine globale Variable definieren, muss man das Schlüsselwort `global` verwenden (ansonsten würde die Variable als neu zu definierende lokale Variable aufgefasst):"
   ]
  },
  {
   "cell_type": "code",
   "execution_count": null,
   "id": "81ef41fa",
   "metadata": {},
   "outputs": [],
   "source": [
    "globale_variable = 57\n",
    "\n",
    "def meine_funktion():\n",
    "    global globale_variable\n",
    "    globale_variable = 10000\n",
    "    \n",
    "meine_funktion()\n",
    "print(globale_variable)"
   ]
  },
  {
   "cell_type": "markdown",
   "id": "8f9d71ef",
   "metadata": {},
   "source": [
    "Eine mögliche Fehlerquelle ist, dass man eine lokale und eine globale Variable gleich benennt und dann per gleichem Namen auf unterschiedliche Werte zugreift:"
   ]
  },
  {
   "cell_type": "code",
   "execution_count": null,
   "id": "0871a8f0",
   "metadata": {},
   "outputs": [],
   "source": [
    "gefaehrliche_variable = 10\n",
    "\n",
    "def meine_funktion():\n",
    "    gefaehrliche_variable = 100\n",
    "    print(gefaehrliche_variable)\n",
    "\n",
    "meine_funktion()\n",
    "\n",
    "print(gefaehrliche_variable)"
   ]
  },
  {
   "cell_type": "markdown",
   "id": "f2cc65ca",
   "metadata": {},
   "source": [
    "Im obigen Beispiel haben wir die Variable `gefaehrliche_variable` einmal im globalen Scope definiert und ihr den Wert 10 zugewiesen. Innerhalb der Funktion `meine_funktion()` definieren wir im lokalen Scope (weil wir nicht das Schlüsselwort `global` verwenden) nochmals eine Variable `gefaehrliche_variable` und weisen ihr den Wert 100 zu. Diese beiden Variabeln haben nichts miteinander zu tun. Das sieht man an den unterschiedlichen Ausgaben der beiden `print()` Befehlen."
   ]
  },
  {
   "cell_type": "markdown",
   "id": "3faacde9",
   "metadata": {},
   "source": [
    "<div style=\"padding:10px; border-style:solid; border-width:1px\">\n",
    "\n",
    "Weitere Infos zum **Scope** findest du bei <a href=\"https://www.w3schools.com/python/python_scope.asp\"><img src=\"img/w3schools.svg\" width=\"40px\"></a>\n",
    "    \n",
    "</div>"
   ]
  },
  {
   "cell_type": "markdown",
   "id": "c374efcc",
   "metadata": {},
   "source": [
    "# Abschlussaufgabe"
   ]
  },
  {
   "cell_type": "markdown",
   "id": "3afc6c64",
   "metadata": {
    "tags": []
   },
   "source": [
    "<div id=\"Aufgabe7\" style=\"margin:0px; padding:10px; border-style:solid; border-width:2px; border-color:green;\">\n",
    "\n",
    "<img src=\"img/dumbbell.png\" style=\"float:right; width:100px\">\n",
    "\n",
    "<span style=\"padding:5px; border-radius:5px; background-color:green; color:white\">Aufgabe</span>\n",
    "\n",
    "Schau dir die nachfolgende Funktion `mystery_function(text)` an und überlege Dir, was sie bewirken wird. Überprüfe Deine Vermutung anschliessend mit `print(mystery_function(\"Hallo Python, wir kennen uns!\"))`. Stelle sicher, dass du eine Notation von der Form `x += 1` verstehst.\n",
    "\n",
    "</div>"
   ]
  },
  {
   "cell_type": "code",
   "execution_count": null,
   "id": "e6244b81",
   "metadata": {
    "tags": []
   },
   "outputs": [],
   "source": [
    "def mystery_function(text):\n",
    "    result = \"\"\n",
    "    for char in text:\n",
    "        if char.isupper():\n",
    "            result += char.lower()\n",
    "        else:\n",
    "            result += char.upper()\n",
    "    return result\n",
    "\n",
    "# Beginn eigener Code\n",
    "\n",
    "print(mystery_function(\"Hallo Python, wir kennen uns\"))\n",
    "\n",
    "# Ende eigener Code"
   ]
  },
  {
   "cell_type": "markdown",
   "id": "1dce77c5",
   "metadata": {
    "tags": []
   },
   "source": [
    "Definiere nun eine eigene Funktion `hacker_speak(text)`, welche einen übergebenen String verfremdet:\n",
    "\n",
    "* `hacker_speak(\"programming is fun\")` wird zu \"pr0gr4mm1ng 15 fun\"\n",
    "* `hacker_speak(\"become a coder\")` wird zu \"b3c0m3 4 c0d3r\"\n",
    "\n",
    "Es sollen also im übergebenen String *text* alle \"a\" durch 4, \"e\" durch 3, \"i\" durch 1, \"o\" durch 0 und \"s\" durch 5 ersetzt werden."
   ]
  },
  {
   "cell_type": "code",
   "execution_count": 1,
   "id": "a36ce7d2",
   "metadata": {
    "tags": []
   },
   "outputs": [
    {
     "name": "stdout",
     "output_type": "stream",
     "text": [
      "Pyth0n 15t 4uch 31n3 Schl4ng3\n",
      "M0nty Pyth0n'5 Fly1ng C1rcu5\n"
     ]
    }
   ],
   "source": [
    "# Beginn eigener Code\n",
    "\n",
    "def hacker_speak_1(text):\n",
    "    result = \"\"\n",
    "    for char in text:\n",
    "        if char == 'a':\n",
    "            result += '4'\n",
    "        elif char == 'e':\n",
    "            result += '3'\n",
    "        elif char == 'i':\n",
    "            result += '1'\n",
    "        elif char == 'o':\n",
    "            result += '0'\n",
    "        elif char == 's':\n",
    "            result += '5'\n",
    "        else:\n",
    "            result += char\n",
    "    return result\n",
    "\n",
    "print(hacker_speak_1(\"Python ist auch eine Schlange\"))\n",
    "\n",
    "def hacker_speak_2(text):\n",
    "    result = text.replace('a', '4').replace('e', '3').replace('i', '1').replace('o', '0').replace('s', '5')\n",
    "    return result\n",
    "\n",
    "print(hacker_speak_2(\"Monty Python's Flying Circus\"))\n",
    "\n",
    "# Ende eigener Code"
   ]
  },
  {
   "cell_type": "markdown",
   "id": "f9b775b0",
   "metadata": {},
   "source": [
    "***"
   ]
  },
  {
   "cell_type": "markdown",
   "id": "c51ec808",
   "metadata": {},
   "source": [
    "# Credits\n",
    "\n",
    "<div>Hantel Icon von <a href=\"https://www.freepik.com\" title=\"Freepik\">Freepik</a> bei <a href=\"https://www.flaticon.com/\" title=\"Flaticon\">www.flaticon.com</a></div>\n"
   ]
  }
 ],
 "metadata": {
  "interpreter": {
   "hash": "1f249ec925ce4e150f1f00585c0a724a833d5f2a7ba7da4c93b858ce16dfa983"
  },
  "kernelspec": {
   "display_name": "Python 3",
   "language": "python",
   "name": "python3"
  },
  "language_info": {
   "codemirror_mode": {
    "name": "ipython",
    "version": 3
   },
   "file_extension": ".py",
   "mimetype": "text/x-python",
   "name": "python",
   "nbconvert_exporter": "python",
   "pygments_lexer": "ipython3",
   "version": "3.8.11"
  },
  "toc-autonumbering": true,
  "toc-showcode": false,
  "toc-showmarkdowntxt": false,
  "toc-showtags": false
 },
 "nbformat": 4,
 "nbformat_minor": 5
}
