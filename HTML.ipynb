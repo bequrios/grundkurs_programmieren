{
 "cells": [
  {
   "cell_type": "code",
   "execution_count": 26,
   "id": "2fabceca-5ca7-4e16-b67b-c0df3e979f42",
   "metadata": {
    "tags": []
   },
   "outputs": [
    {
     "data": {
      "text/html": [
       "\n",
       "<link rel=\"stylesheet\" href=\"styles/style.css\">\n"
      ],
      "text/plain": [
       "<IPython.core.display.HTML object>"
      ]
     },
     "metadata": {},
     "output_type": "display_data"
    }
   ],
   "source": [
    "%%html\n",
    "\n",
    "<link rel=\"stylesheet\" href=\"styles/style.css\">"
   ]
  },
  {
   "cell_type": "markdown",
   "id": "88cf8c45-723a-40b5-ad61-56c1efbc3801",
   "metadata": {},
   "source": [
    "<img src=\"img/DN.png\" style=\"float:right;width:150px\">\n",
    "\n",
    "HTML\n",
    "\n",
    "# Übungen in dieser Lektion\n",
    "\n",
    "* [Klasse definieren](#Aufgabe1)\n",
    "\n",
    "# HTML\n",
    "\n",
    "**HTML** (Hyper Text Markup Language) ist eine sogenannte **Auszeichnungssprache**. Das heisst, mit Hilfe von HTML werden einzelne Elemente einer Website ausgezeichnet, es wird ihnen also eine bestimmte Bedeutung zugewiesen.\n",
    "\n",
    "Diese Auszeichnung geschieht mit **Tags**. Tags werden in spitze Klammern `<>` eingeschlossen und bestehen meistens aus einem öffnenden Tag und einem schliessenden Tag (es gibt aber auch Tags die nur als öffnener Tag vorkommen). Der schliessende Tag heisst dabei gleich wie der öffnende Tag, hat aber zuerst einen Slash `</>`.\n",
    "\n",
    "Alle diese Tags werden im **Quelltext** eingefügt. Das ist dasjenige Dokument (meist mit der Dateiendung '.html'), welches der Browser als Website darstellt (Fachbegriff: Die Website wird **gerendert**). Im Browser sind also im Normalfall keine Tags zu sehen, sondern die entsprechende Darstellung dieser verschiedenen Tags. "
   ]
  },
  {
   "cell_type": "markdown",
   "id": "4be1fe1b-5f62-433d-ae58-b8d4a5703604",
   "metadata": {
    "tags": []
   },
   "source": [
    "## Besonderheiten von HTML in Jupyter Notebooks\n",
    "\n",
    "Um in Jupyter Notebooks mit HTML in Zellen zu arbeiten, muss in jeder Zelle, die HTML Quelltext beinhalten soll, zuerst das Magic Command `%%html` eingefügt werden. Dieses signalisiert Jupyter, dass der nachfolgende Code als HTML zu interpretieren ist.\n",
    "\n",
    "Das Magic Command ist notewendig, weil Jupyter Notebooks grundsätzlich Code oder Markdown in Zellen enthalten.\n",
    "\n",
    "Eine HTML Seite ausserhalb von Jupyter Notebooks bestehen standardmässig aus einer ganz bestimmten Grundstruktur von HTML Tags. Eine solche Grundstruktur ist nachfolgend eingefügt:\n",
    "\n",
    "```html\n",
    "<!DOCTYPE html>\n",
    "<html>\n",
    "    <head>\n",
    "        <title>Seitentitel</title>\n",
    "    </head>\n",
    "    <body>\n",
    "    </body>\n",
    "</html>\n",
    "```\n",
    "\n",
    "Da die Jupyter Notebooks aber in den Zellen nur bestimmte HTML Elemente enthalten (und keine kompletten HTML Seiten), kann auf dieses Grundgerüst grundsätzlich verzichtet werden.\n",
    "\n",
    "Um die gerenderte Ausgabe der HTML Tags im Notebook optisch besser von den anderen Elementen abzugrenzen, werden alle HTML Zellen zusätlich zum notwendigen Magic Command `%%html` mit einem `<div class=\"html-output\"></div>` Tag umgeben. Was es genau mit diesem Tag auf sich hat, wird in der nachfolgenden Lektion detailiert behandelt. Der Effekt ist auf jeden Fall, dass die Darstellung von HTML output optisch angepasst wird."
   ]
  },
  {
   "cell_type": "markdown",
   "id": "fa9ed45f-f998-4706-abf6-1bc56c27a006",
   "metadata": {},
   "source": [
    "## Abschnitte\n",
    "\n",
    "Einer der grundlegensten Tags ist der `<p></p>` Tag. Mit ihm werden Texte in Abschnitte eingeteilt (p: 'Paragraph'). Innerhalb des `<p></p>` Tags sollen inhaltlich zusammengheörende Textblöcke stehen:"
   ]
  },
  {
   "cell_type": "code",
   "execution_count": 9,
   "id": "70666c91-b2e1-48ae-ba27-ec70f5a8a1ee",
   "metadata": {},
   "outputs": [
    {
     "data": {
      "text/html": [
       "\n",
       "<div class=\"html-output\">\n",
       "\n",
       "<p>Die Bären (Ursidae) sind eine Säugetierfamilie aus der Ordnung der Raubtiere (Carnivora). \n",
       "In Abgrenzung zu den Kleinbären (Procyonidae) werden sie auch als Großbären oder Echte Bären \n",
       "bezeichnet. Die Familie umfasst acht Arten und zählt zur Überfamilie der Hundeartigen.</p>\n",
       "\n",
       "<p>Die Bären gleichen sich im Körperbau. Ihr Körper ist massig und stämmig, der Kopf groß, \n",
       "und die Gliedmaßen sind eher kurz und sehr kräftig. Die Augen sind klein, die Ohren rund \n",
       "und aufgerichtet. Die meist langgestreckte Schnauze beherbergt je nach Art 40 oder 42 Zähne. \n",
       "Die Füße enden in fünf Zehen, die mit nicht einziehbaren Krallen versehen sind.</p>\n",
       "\n",
       "</div>\n"
      ],
      "text/plain": [
       "<IPython.core.display.HTML object>"
      ]
     },
     "metadata": {},
     "output_type": "display_data"
    }
   ],
   "source": [
    "%%html\n",
    "\n",
    "<div class=\"html-output\">\n",
    "\n",
    "<p>Die Bären (Ursidae) sind eine Säugetierfamilie aus der Ordnung der Raubtiere (Carnivora). \n",
    "In Abgrenzung zu den Kleinbären (Procyonidae) werden sie auch als Großbären oder Echte Bären \n",
    "bezeichnet. Die Familie umfasst acht Arten und zählt zur Überfamilie der Hundeartigen.</p>\n",
    "\n",
    "<p>Die Bären gleichen sich im Körperbau. Ihr Körper ist massig und stämmig, der Kopf groß, \n",
    "und die Gliedmaßen sind eher kurz und sehr kräftig. Die Augen sind klein, die Ohren rund \n",
    "und aufgerichtet. Die meist langgestreckte Schnauze beherbergt je nach Art 40 oder 42 Zähne. \n",
    "Die Füße enden in fünf Zehen, die mit nicht einziehbaren Krallen versehen sind.</p>\n",
    "\n",
    "</div>"
   ]
  },
  {
   "cell_type": "markdown",
   "id": "2f87e402-9577-4103-8da3-a7cfee47c16d",
   "metadata": {
    "tags": []
   },
   "source": [
    "## Überschriften\n",
    "\n",
    "Ein weiteres wichtiges Element für die Textgliederung betrifft Überschriften. Dabei ist es möglich, Überschriften verschiedener Ordnung auszuzeichnen. Der Tag für Überschriften beginnt mit einem `<h>` (h: 'Header') gefolgt von einer Zahl für die Ordnung:"
   ]
  },
  {
   "cell_type": "code",
   "execution_count": 8,
   "id": "34e60faa-8ce2-455f-97f3-5e9aaf5ab223",
   "metadata": {
    "tags": []
   },
   "outputs": [
    {
     "data": {
      "text/html": [
       "\n",
       "<div class=\"html-output\">\n",
       "\n",
       "<h1>Bären</h1>\n",
       "\n",
       "<p>Die Bären (Ursidae) sind eine Säugetierfamilie aus der Ordnung der Raubtiere (Carnivora). \n",
       "In Abgrenzung zu den Kleinbären (Procyonidae) werden sie auch als Großbären oder Echte Bären \n",
       "bezeichnet. Die Familie umfasst acht Arten und zählt zur Überfamilie der Hundeartigen.</p>\n",
       "\n",
       "<h2>Merkmale</h2>\n",
       "\n",
       "<p>Die Bären gleichen sich im Körperbau. Ihr Körper ist massig und stämmig, der Kopf groß, \n",
       "und die Gliedmaßen sind eher kurz und sehr kräftig. Die Augen sind klein, die Ohren rund \n",
       "und aufgerichtet. Die meist langgestreckte Schnauze beherbergt je nach Art 40 oder 42 Zähne. \n",
       "Die Füße enden in fünf Zehen, die mit nicht einziehbaren Krallen versehen sind.</p>\n",
       "\n",
       "</div>\n"
      ],
      "text/plain": [
       "<IPython.core.display.HTML object>"
      ]
     },
     "metadata": {},
     "output_type": "display_data"
    }
   ],
   "source": [
    "%%html\n",
    "\n",
    "<div class=\"html-output\">\n",
    "\n",
    "<h1>Bären</h1>\n",
    "\n",
    "<p>Die Bären (Ursidae) sind eine Säugetierfamilie aus der Ordnung der Raubtiere (Carnivora). \n",
    "In Abgrenzung zu den Kleinbären (Procyonidae) werden sie auch als Großbären oder Echte Bären \n",
    "bezeichnet. Die Familie umfasst acht Arten und zählt zur Überfamilie der Hundeartigen.</p>\n",
    "\n",
    "<h2>Merkmale</h2>\n",
    "\n",
    "<p>Die Bären gleichen sich im Körperbau. Ihr Körper ist massig und stämmig, der Kopf groß, \n",
    "und die Gliedmaßen sind eher kurz und sehr kräftig. Die Augen sind klein, die Ohren rund \n",
    "und aufgerichtet. Die meist langgestreckte Schnauze beherbergt je nach Art 40 oder 42 Zähne. \n",
    "Die Füße enden in fünf Zehen, die mit nicht einziehbaren Krallen versehen sind.</p>\n",
    "\n",
    "</div>"
   ]
  },
  {
   "cell_type": "markdown",
   "id": "af1411cc-3db7-4c92-ab7f-9250f07abcf7",
   "metadata": {},
   "source": [
    "## Formatierung des Quelltextes\n",
    "\n",
    "Die Formatierung des Quelltextes spielt keine Rolle für die schlussendliche Darstellung der Website im Browser. Einrückungen oder Zeilenumbrüche können also beliebig gewählt werden - sinnvollerweise für eine übersichtliche Darstellung des Quelltextes, sie haben aber keine Auswirkung auf die gerenderte Darstellung:"
   ]
  },
  {
   "cell_type": "code",
   "execution_count": 16,
   "id": "05835964-fc19-4239-82af-a83ae7bfbcff",
   "metadata": {},
   "outputs": [
    {
     "data": {
      "text/html": [
       "\n",
       "<div class=\"html-output\">\n",
       "\n",
       "<h4>Unterschiedlich formatierter Quelltext \n",
       "ergibt trotzdem gleichen Output</h4>\n",
       "    \n",
       "    <p>Die Bären (Ursidae) sind eine Säugetierfamilie aus der Ordnung der Raubtiere (Carnivora). \n",
       "In Abgrenzung zu den Kleinbären (Procyonidae) werden sie auch als Großbären oder Echte Bären \n",
       "bezeichnet. Die Familie umfasst acht Arten und zählt zur Überfamilie der Hundeartigen.</p>\n",
       "\n",
       "</div>\n"
      ],
      "text/plain": [
       "<IPython.core.display.HTML object>"
      ]
     },
     "metadata": {},
     "output_type": "display_data"
    }
   ],
   "source": [
    "%%html\n",
    "\n",
    "<div class=\"html-output\">\n",
    "\n",
    "<h4>Unterschiedlich formatierter Quelltext \n",
    "ergibt trotzdem gleichen Output</h4>\n",
    "    \n",
    "    <p>Die Bären (Ursidae) sind eine Säugetierfamilie aus der Ordnung der Raubtiere (Carnivora). \n",
    "In Abgrenzung zu den Kleinbären (Procyonidae) werden sie auch als Großbären oder Echte Bären \n",
    "bezeichnet. Die Familie umfasst acht Arten und zählt zur Überfamilie der Hundeartigen.</p>\n",
    "\n",
    "</div>"
   ]
  },
  {
   "cell_type": "code",
   "execution_count": 10,
   "id": "ea37e4a6-2e3d-415a-9f74-f3cf2c451029",
   "metadata": {},
   "outputs": [
    {
     "data": {
      "text/html": [
       "\n",
       "<div class=\"html-output\"><h4>Unterschiedlich formatierter Quelltext ergibt trotzdem gleichen Output</h4>\n",
       "<p>Die Bären (Ursidae) sind eine Säugetierfamilie aus der Ordnung der Raubtiere (Carnivora). In Abgrenzung zu den Kleinbären (Procyonidae) werden sie auch als Großbären oder Echte Bären bezeichnet. Die Familie umfasst acht Arten und zählt zur Überfamilie der Hundeartigen.</p></div>\n"
      ],
      "text/plain": [
       "<IPython.core.display.HTML object>"
      ]
     },
     "metadata": {},
     "output_type": "display_data"
    }
   ],
   "source": [
    "%%html\n",
    "\n",
    "<div class=\"html-output\"><h4>Unterschiedlich formatierter Quelltext ergibt trotzdem gleichen Output</h4>\n",
    "<p>Die Bären (Ursidae) sind eine Säugetierfamilie aus der Ordnung der Raubtiere (Carnivora). In Abgrenzung zu den Kleinbären (Procyonidae) werden sie auch als Großbären oder Echte Bären bezeichnet. Die Familie umfasst acht Arten und zählt zur Überfamilie der Hundeartigen.</p></div>"
   ]
  },
  {
   "cell_type": "markdown",
   "id": "3f9b4a83-1eb8-4d32-9ad3-4580e2d13ec4",
   "metadata": {},
   "source": [
    "## Kommentare im Quelltext\n",
    "\n",
    "Soll ein bestimmter Text im HTML Quelltext überhaupt nicht in der gerenderten Ausgabe im Browser erscheinen, kann dieser Text innerhalb eines speziellen Tags verfasst werden. Bei einem solchen Text handelt es sich um einen sogenannten Kommentar, da dieser Tag häufig dazu verwendet wird, den Quelltext zu kommentieren, also bspw. eine bestimmte Überlegung zur Art und Weise des Quelltextes zu dokumentieren:"
   ]
  },
  {
   "cell_type": "code",
   "execution_count": 4,
   "id": "53c6ef17-6c7e-49ba-80dd-62e8542d24df",
   "metadata": {},
   "outputs": [
    {
     "data": {
      "text/html": [
       "\n",
       "<div class=\"html-output\">\n",
       "\n",
       "<!-- Der Text innerhalb dieses Tags wird nicht dargestellt im Browser -->\n",
       "\n",
       "<p>Ein ganz normaler Abschnitt, der nur darauf hinweisen soll, \n",
       "dass der Text oberhalb nicht dargestellt wird.</p>\n",
       "\n",
       "</div>\n"
      ],
      "text/plain": [
       "<IPython.core.display.HTML object>"
      ]
     },
     "metadata": {},
     "output_type": "display_data"
    }
   ],
   "source": [
    "%%html\n",
    "\n",
    "<div class=\"html-output\">\n",
    "\n",
    "<!-- Der Text innerhalb dieses Tags wird nicht dargestellt im Browser -->\n",
    "\n",
    "<p>Ein ganz normaler Abschnitt, der nur darauf hinweisen soll, \n",
    "dass der Text oberhalb nicht dargestellt wird.</p>\n",
    "\n",
    "</div>"
   ]
  },
  {
   "cell_type": "markdown",
   "id": "edaa9f62-7508-468f-a1be-aa0d5c2ef807",
   "metadata": {},
   "source": [
    "## Links\n",
    "\n",
    "Eines der sehr erfolgreichen Konzepte von HTML ist die Möglichkeit, innerhalb von Dokumenten auf andere Dokumente zu verlinken. Dies ist heute so geläufig, dass die Genialität dieser Idee meist gar nicht mehr gross auffällt.\n",
    "\n",
    "Links können durch Klick auf speziell ausgezeichnete Textteile erreicht werden oder auch durch Bilder resp. grafische Elemente (typischerweise Buttons). Das Ziel eines Links kann dabei eine HTML Seite sein oder auch ein bestimmter Bereich in einer HTML Seite. Seit einiger Zeit werden auch Links unterstützt, die den Computer anweisen, das Ziel nicht im Browser zu öffnen, sondern in einer ganz bestimmten Software (bspw. kann ein Link zu einer \"App\" direkt im App Store geöffnet werden).\n",
    "\n",
    "Um einen Link setzen zu können, muss die Zielseite nicht auf dem eigenen Computer sein, sondern kann sich irgendwo im World Wide Web befinden:"
   ]
  },
  {
   "cell_type": "code",
   "execution_count": 11,
   "id": "45a3119c-8569-431e-beee-7c0106fcccb4",
   "metadata": {},
   "outputs": [
    {
     "data": {
      "text/html": [
       "\n",
       "<div class=\"html-output\">\n",
       "\n",
       "<p>Das ist ein <a href=\"https://de.wikipedia.org/wiki/Hypertext_Markup_Language\">Link</a> \n",
       "zur Wikipedia Seite über HTML.</p>\n",
       "\n",
       "</div>\n"
      ],
      "text/plain": [
       "<IPython.core.display.HTML object>"
      ]
     },
     "metadata": {},
     "output_type": "display_data"
    }
   ],
   "source": [
    "%%html\n",
    "\n",
    "<div class=\"html-output\">\n",
    "\n",
    "<p>Das ist ein <a href=\"https://de.wikipedia.org/wiki/Hypertext_Markup_Language\">Link</a> \n",
    "zur Wikipedia Seite über HTML.</p>\n",
    "\n",
    "</div>"
   ]
  },
  {
   "cell_type": "markdown",
   "id": "46281a56-50d3-4ade-8a0d-ea1b5f530774",
   "metadata": {},
   "source": [
    "Der Link Tag ist also ein `<a>` (a: 'Anchor', ein Anker ist ursprünglich ein bestimmter Ort in einem Dokument). Hier wird zum ersten mal ein **Attribut** (*attribute*) verwendet. Mit Hilfe von Attributen können zu HTML Tags weitere Angaben gemacht werden. Das Attribut `href` bedeutet dabei das Ziel des Links ('href: **H**yptertext **Ref**erence'). Was innerhalb der `<a></a>` Tags steht, wird vom Browser als eigentlicher Link dargestellt (standardmässig blau eingefärbt).\n",
    "\n",
    "Um auf eine bestimmte Stelle innerhalb eines Dokuments zu verlinken, muss diese Stelle mit einer **ID** versehen sein. Die Artikel auf Wikipedia beispielsweise werden automatisch mit IDs versehen. Beim Verlinken zu einer ID wird diese mit einem `#` vom Link zur entsprechenden Seite abgetrennt:"
   ]
  },
  {
   "cell_type": "code",
   "execution_count": 12,
   "id": "5f0a6e9a-90f9-4650-a42b-43a11598aea4",
   "metadata": {},
   "outputs": [
    {
     "data": {
      "text/html": [
       "\n",
       "<div class=\"html-output\">\n",
       "\n",
       "<p>Dies ist ein Link zum Abschnitt \n",
       "<a href=\"https://de.wikipedia.org/wiki/Hypertext_Markup_Language#Versionen\">Versionen</a>\n",
       "innerhalb der Wikipedia Seite zum Thema HTML.</p>\n",
       "\n",
       "</div>\n"
      ],
      "text/plain": [
       "<IPython.core.display.HTML object>"
      ]
     },
     "metadata": {},
     "output_type": "display_data"
    }
   ],
   "source": [
    "%%html\n",
    "\n",
    "<div class=\"html-output\">\n",
    "\n",
    "<p>Dies ist ein Link zum Abschnitt \n",
    "<a href=\"https://de.wikipedia.org/wiki/Hypertext_Markup_Language#Versionen\">Versionen</a>\n",
    "innerhalb der Wikipedia Seite zum Thema HTML.</p>\n",
    "\n",
    "</div>"
   ]
  },
  {
   "cell_type": "markdown",
   "id": "18c9cfd7-e606-49ed-af03-d0d1a6eec5ac",
   "metadata": {},
   "source": [
    "## Absolute und relative Pfade\n",
    "\n",
    "Ein wichtiges Konzept bei Links ist der Unterschied zwischen **absoluten** und **relativen Pfaden**. Beim absoluten Pfad spielt es keine Rolle, von wo er aufgerufen wird, er führt immer zum gleichen Ziel:"
   ]
  },
  {
   "cell_type": "code",
   "execution_count": 13,
   "id": "517acf29-ae9c-4ba5-8e55-a431a42d3a32",
   "metadata": {},
   "outputs": [
    {
     "data": {
      "text/html": [
       "\n",
       "<div class=\"html-output\">\n",
       "\n",
       "<p>Dies ist ein absoluter Link zur Website der <a href=\"https://www.unibe.ch\">Uni Bern</a>.</p>\n",
       "\n",
       "</div>\n"
      ],
      "text/plain": [
       "<IPython.core.display.HTML object>"
      ]
     },
     "metadata": {},
     "output_type": "display_data"
    }
   ],
   "source": [
    "%%html\n",
    "\n",
    "<div class=\"html-output\">\n",
    "\n",
    "<p>Dies ist ein absoluter Link zur Website der <a href=\"https://www.unibe.ch\">Uni Bern</a>.</p>\n",
    "\n",
    "</div>"
   ]
  },
  {
   "cell_type": "markdown",
   "id": "dc28d49c-01dd-41ef-92e3-ccab4401387b",
   "metadata": {},
   "source": [
    "Egal, woher gestartet wird, der Link 'https://www.unibe.ch' führt immer zur Uni Bern."
   ]
  },
  {
   "cell_type": "code",
   "execution_count": 14,
   "id": "e06a3fa4-5ea2-4b75-a3bd-1e1532bffdc8",
   "metadata": {},
   "outputs": [
    {
     "data": {
      "text/html": [
       "\n",
       "<div class=\"html-output\">\n",
       "\n",
       "<p>Dies ist ein relativer Link zu einer <a href=\"img/DN.png\">Grafik</a>, \n",
       "die sich lokal auf dem Computer befindet.</p>\n",
       "\n",
       "</div>\n"
      ],
      "text/plain": [
       "<IPython.core.display.HTML object>"
      ]
     },
     "metadata": {},
     "output_type": "display_data"
    }
   ],
   "source": [
    "%%html\n",
    "\n",
    "<div class=\"html-output\">\n",
    "\n",
    "<p>Dies ist ein relativer Link zu einer <a href=\"img/DN.png\">Grafik</a>, \n",
    "die sich lokal auf dem Computer befindet.</p>\n",
    "\n",
    "</div>"
   ]
  },
  {
   "cell_type": "markdown",
   "id": "dcf52708-4c93-4c07-8f8d-6e7809f9fea1",
   "metadata": {},
   "source": [
    "Relative Pfade berücksichtigen den Ort, von wo aus der Link aufgerufen wird. Dabei spielt sowohl der Speicherort der aufrufenden Datei als auch der Speicherort der aufgerufenen Datei eine Rolle (beim absoluten Link spielt der Speicherort der aufrufenden Datei keine Rolle).\n",
    "\n",
    "Im obigen Beispiel wird also relativ vom Speicherort der aufrufenden Datei ein Ordner 'img' gesucht und innerhalb dieses Ordners die Datei 'DN.png'. Dazu muss aber die aufrufende Datei (hier das aktuelle Notebook) und der Ordner 'img' im gleichen Speicherort sein.\n",
    "\n",
    "Es kann grob festgehalten werden, dass Links die mit `http://` oder `https://` beginnen, absolute Pfade sind."
   ]
  },
  {
   "cell_type": "markdown",
   "id": "275fdb48-e875-4f38-ad79-989584d4b02e",
   "metadata": {},
   "source": [
    "<div id=\"Aufgabe1\" style=\"margin:0px; padding:10px; border-style:solid; border-width:2px; border-color:green\">\n",
    "\n",
    "<img src=\"img/dumbbell.png\" style=\"float:right; width:100px\">\n",
    "\n",
    "<span style=\"padding:5px; border-radius:5px; background-color:green; color:white\">Aufgabe</span>\n",
    "\n",
    "Was passiert, wenn das Ziel eines Links nicht existiert? Finde es heraus, indem du drei verschiedenen HTML Links erstellst:\n",
    "    \n",
    "* ein relativer Link auf eine nicht existierende lokale Datei\n",
    "* ein absoluter Link auf eine nicht existierende Seite der Pädagogischen Hochschule Bern\n",
    "* ein absoluter Link auf eine nicht existierende Domain resp. Server\n",
    "</div>"
   ]
  },
  {
   "cell_type": "code",
   "execution_count": 15,
   "id": "d5bcef3b-6b34-4497-8ed9-a9a561e91397",
   "metadata": {},
   "outputs": [
    {
     "data": {
      "text/html": [
       "\n",
       "<div class=\"html-output\">\n",
       "\n",
       "<!-- Beginn eigener Code -->\n",
       "\n",
       "<p>Relativer Link: Das ist ein Link auf eine <a href=\"img/gibts_nicht.png\">nicht existierende</a> Datei.</p>\n",
       "<p>Absoluter Link auf eine nicht existierende <a href=\"https://www.phbern.ch/gibts_nicht\">PH Bern Seite</a>.</p>\n",
       "<p>Absoluter Link auf eine nicht existierende <a href=\"https://www.das_gibts_sicher_nicht.com\">Domain</a>.</p>\n",
       "\n",
       "<!-- Ende eigener Code -->\n",
       "\n",
       "</div>\n"
      ],
      "text/plain": [
       "<IPython.core.display.HTML object>"
      ]
     },
     "metadata": {},
     "output_type": "display_data"
    }
   ],
   "source": [
    "%%html\n",
    "\n",
    "<div class=\"html-output\">\n",
    "\n",
    "<!-- Beginn eigener Code -->\n",
    "\n",
    "<p>Relativer Link: Das ist ein Link auf eine <a href=\"img/gibts_nicht.png\">nicht existierende</a> Datei.</p>\n",
    "<p>Absoluter Link auf eine nicht existierende <a href=\"https://www.phbern.ch/gibts_nicht\">PH Bern Seite</a>.</p>\n",
    "<p>Absoluter Link auf eine nicht existierende <a href=\"https://www.das_gibts_sicher_nicht.com\">Domain</a>.</p>\n",
    "\n",
    "<!-- Ende eigener Code -->\n",
    "\n",
    "</div>"
   ]
  },
  {
   "cell_type": "markdown",
   "id": "e2673bf2-df68-4e63-9f14-7d3cbf775b56",
   "metadata": {},
   "source": [
    "Das Verhalten von Jupyter Lab bei einem nicht gefundenen Link auf eine lokale Datei ist nicht sehr hilfreich. Es passiert nämlich nichts. Falls man auf einem Server der existiert, eine fehlende Datei abrufen möchte, erzeugt der Server eine Fehlermeldung. Der Fehlercode für eine fehlende Seite ist '404'. Diese Zahl ist entsprechend beim Surfen im Web immer wieder zu sehen. Beim Server kann konfiguriert werden, wie diese Fehlermeldung aussehen soll und dementsprechend sieht diese Fehlermeldung überall unterschiedlich aus. Im Falle, dass ein Server resp. die dazugehörige Domain gar nicht existiert, erscheint eine browserspezifische Fehlermeldung."
   ]
  },
  {
   "cell_type": "markdown",
   "id": "c93e5546-28be-4957-8ff5-a87a79ba308e",
   "metadata": {},
   "source": [
    "## Bilder\n",
    "\n",
    "Bilder können in HTML entwerder lokal (mit relativem Pfad) oder entfernt (mit absolutem Pfad) eingebunden werden. Es kann also durchaus ein Bild eingebunden werden, welches sich gar nicht auf dem eigenen Computer befindet:"
   ]
  },
  {
   "cell_type": "code",
   "execution_count": 16,
   "id": "ba6a70a2-dd52-4442-8841-5498e25c2073",
   "metadata": {},
   "outputs": [
    {
     "data": {
      "text/html": [
       "\n",
       "<div class=\"html-output\">\n",
       "\n",
       "<img src=\"https://www.w3.org/html/logo/img/html5-display.png\">\n",
       "\n",
       "</div>\n"
      ],
      "text/plain": [
       "<IPython.core.display.HTML object>"
      ]
     },
     "metadata": {},
     "output_type": "display_data"
    }
   ],
   "source": [
    "%%html\n",
    "\n",
    "<div class=\"html-output\">\n",
    "\n",
    "<img src=\"https://www.w3.org/html/logo/img/html5-display.png\">\n",
    "\n",
    "</div>"
   ]
  },
  {
   "cell_type": "markdown",
   "id": "ee5f3e90-cd68-40df-a9f5-f66ef94d8226",
   "metadata": {},
   "source": [
    "Das `src` Attribut (src: 'Source') des `<img>` (img: Image) Tags gibt dabei den Speicherort des Bildes an, das angezeigt werden soll. Dieser Speicherort kann lokal auf dem eigenen Computer sein oder wie im Beispiel oben entfernt auf einem Server im World Wide Web."
   ]
  },
  {
   "cell_type": "markdown",
   "id": "d83c2aec-3984-4b0f-9f9b-f66e30c423ab",
   "metadata": {},
   "source": [
    "## Verschachtelte Tags\n",
    "\n",
    "Tags können in HTML verschachtelt werden. Das heisst, ein neuer öffnender Tag kann folgen, bevor der übergeordnete Tag geschlossen wird. Ein typisches Beispiel (neben der kompletten HTML Struktur einer \"normalen\" HTML Seite, wie sie weiter oben [gezeigt](#Besonderheiten-von-HTML-in-Jupyter-Notebooks) wurde) ist dabei die Verlinkung eines Bildes:"
   ]
  },
  {
   "cell_type": "code",
   "execution_count": 17,
   "id": "2a4b5d22-3832-43c7-bdc7-ea589c7bf476",
   "metadata": {},
   "outputs": [
    {
     "data": {
      "text/html": [
       "\n",
       "<div class=\"html-output\">\n",
       "\n",
       "<p>Hier folgt nun ein verlinktes Bild</p>\n",
       "<a href=\"https://www.unibe.ch\"><img src=\"https://www.unibe.ch/media/logo_unibern@2x.png\"></a>\n",
       "\n",
       "</div>\n"
      ],
      "text/plain": [
       "<IPython.core.display.HTML object>"
      ]
     },
     "metadata": {},
     "output_type": "display_data"
    }
   ],
   "source": [
    "%%html\n",
    "\n",
    "<div class=\"html-output\">\n",
    "\n",
    "<p>Hier folgt nun ein verlinktes Bild</p>\n",
    "<a href=\"https://www.unibe.ch\"><img src=\"https://www.unibe.ch/media/logo_unibern@2x.png\"></a>\n",
    "\n",
    "</div>"
   ]
  },
  {
   "cell_type": "markdown",
   "id": "d1380710-eb25-4a7d-94ae-40ee3dc770d7",
   "metadata": {},
   "source": [
    "Das `<img>` Tag steht also innerhalb des `<a></a>` Tags und wird damit als gesamtes Bild zu einem Link."
   ]
  },
  {
   "cell_type": "markdown",
   "id": "9b54fb70-fac0-43ee-bfc2-cde1edd8001f",
   "metadata": {},
   "source": [
    "## Tabellen\n",
    "\n",
    "Ein weiteres Beispiel für verschachtelte Tags sind Tabellen:"
   ]
  },
  {
   "cell_type": "code",
   "execution_count": 18,
   "id": "a70cd1d6-60f1-467d-a155-4a634a34f9d2",
   "metadata": {},
   "outputs": [
    {
     "data": {
      "text/html": [
       "\n",
       "<div class=\"html-output\">\n",
       "\n",
       "<table>\n",
       "    <tr>\n",
       "        <th>Hochschule</th>\n",
       "        <th>Abkürzung</th>\n",
       "        <th>Anzahl Studierende</th>\n",
       "        <th>Gründungsjahr</th>\n",
       "        <th>Website</th>\n",
       "    </tr>\n",
       "    <tr>\n",
       "        <td>Berner Fachhochschule</td>\n",
       "        <td>BFH</td>\n",
       "        <td>6979</td>\n",
       "        <td>1997</td>\n",
       "        <td><a href=\"https://www.bfh.ch\">bfh.ch</a></td>\n",
       "    </tr>\n",
       "    <tr>\n",
       "        <td>Pädagogische Hochschule Bern</td>\n",
       "        <td>PHBern</td>\n",
       "        <td>3263</td>\n",
       "        <td>2005</td>\n",
       "        <td><a href=\"https://www.phbern.ch\">phbern.ch</a></td>\n",
       "    </tr>\n",
       "    <tr>\n",
       "        <td>Universität Bern</td>\n",
       "        <td>Uni Bern</td>\n",
       "        <td>19230</td>\n",
       "        <td>1834</td>\n",
       "        <td><a href=\"https://www.unibe.ch\">unibe.ch</a></td>\n",
       "    </tr>\n",
       "</table>\n",
       "\n",
       "</div>\n"
      ],
      "text/plain": [
       "<IPython.core.display.HTML object>"
      ]
     },
     "metadata": {},
     "output_type": "display_data"
    }
   ],
   "source": [
    "%%html\n",
    "\n",
    "<div class=\"html-output\">\n",
    "\n",
    "<table>\n",
    "    <tr>\n",
    "        <th>Hochschule</th>\n",
    "        <th>Abkürzung</th>\n",
    "        <th>Anzahl Studierende</th>\n",
    "        <th>Gründungsjahr</th>\n",
    "        <th>Website</th>\n",
    "    </tr>\n",
    "    <tr>\n",
    "        <td>Berner Fachhochschule</td>\n",
    "        <td>BFH</td>\n",
    "        <td>6979</td>\n",
    "        <td>1997</td>\n",
    "        <td><a href=\"https://www.bfh.ch\">bfh.ch</a></td>\n",
    "    </tr>\n",
    "    <tr>\n",
    "        <td>Pädagogische Hochschule Bern</td>\n",
    "        <td>PHBern</td>\n",
    "        <td>3263</td>\n",
    "        <td>2005</td>\n",
    "        <td><a href=\"https://www.phbern.ch\">phbern.ch</a></td>\n",
    "    </tr>\n",
    "    <tr>\n",
    "        <td>Universität Bern</td>\n",
    "        <td>Uni Bern</td>\n",
    "        <td>19230</td>\n",
    "        <td>1834</td>\n",
    "        <td><a href=\"https://www.unibe.ch\">unibe.ch</a></td>\n",
    "    </tr>\n",
    "</table>\n",
    "\n",
    "</div>"
   ]
  },
  {
   "cell_type": "markdown",
   "id": "00ed2f19-31da-4f26-8e8e-b195924895ab",
   "metadata": {},
   "source": [
    "Tabellen werden mit dem Tag `<table></table>` gebildet. Zuerst werden dann die einzelnen Tabellenreihen mit `<tr></tr>` erzeugt (tr: 'Table Row'). Innerhalb der Zeilen werden die einzelnen Datenfelder mit `<th></th>` resp. mit `<td></td>` erstellt. (th: 'Table Header', td: 'Table Data'). Die Header Zellen werden im Vergleich zu normalen Datenzellen hervorgehoben dargestellt. Die obige Darstellung der Tabelle ist stark durch Style Vorgaben innerhalb von Jupyter Lab beinflusst. Standardmässig sehen HTML Tabellen weniger ansprechend aus."
   ]
  },
  {
   "cell_type": "markdown",
   "id": "a9206b8d-6e47-4f34-abf5-bb6a68420284",
   "metadata": {},
   "source": [
    "<div id=\"Aufgabe2\" style=\"margin:0px; padding:10px; border-style:solid; border-width:2px; border-color:green\">\n",
    "\n",
    "<img src=\"img/dumbbell.png\" style=\"float:right; width:100px\">\n",
    "\n",
    "<span style=\"padding:5px; border-radius:5px; background-color:green; color:white\">Aufgabe</span>\n",
    "\n",
    "Erstelle eine Tabelle mit Daten des Schweizerischen Nationalfonds für das Jahr 2020. Es sollen für die drei dort angegebenen wissenschaftlichen Disziplinen jeweils die nachgefragten und bewilligten Fördergelder notiert werden (und bei persönlichem Interesse der Prozentsatz der bewilligten Gelder). Wähle eine sinnvolle Aufteilung in Spalten und Zeilen. Die Daten sind verfügbar unter [data.snf.ch](https://data.snf.ch/key-figures/disciplines?s2=1).\n",
    "</div>"
   ]
  },
  {
   "cell_type": "code",
   "execution_count": 19,
   "id": "ba70ca8f-6f22-4184-9a18-4d8929d15d0b",
   "metadata": {},
   "outputs": [
    {
     "data": {
      "text/html": [
       "\n",
       "<div class=\"html-output\">\n",
       "\n",
       "<!-- Beginn eigener Code -->\n",
       "\n",
       "<table>\n",
       "    <tr>\n",
       "        <th>Disziplin</th>\n",
       "        <th>Gesuche</th>\n",
       "        <th>Bewilligt</th>\n",
       "        <th>Anteil bewilligt</th>\n",
       "    </tr>\n",
       "    <tr>\n",
       "        <td>Geistes- und Sozialwissenschaften</td>\n",
       "        <td>988</td>\n",
       "        <td>310</td>\n",
       "        <td>31%</td>\n",
       "    </tr>\n",
       "    <tr>\n",
       "        <td>Mathematik, Natur- und Ingenieurwissenschaften</td>\n",
       "        <td>1110</td>\n",
       "        <td>284</td>\n",
       "        <td>26%</td>\n",
       "    </tr>\n",
       "    <tr>\n",
       "        <td>Biologie und Medizin</td>\n",
       "        <td>1340</td>\n",
       "        <td>344</td>\n",
       "        <td>26%</td>\n",
       "    </tr>\n",
       "</table>\n",
       "\n",
       "<!-- Ende eigener Code -->\n",
       "\n",
       "</div>\n"
      ],
      "text/plain": [
       "<IPython.core.display.HTML object>"
      ]
     },
     "metadata": {},
     "output_type": "display_data"
    }
   ],
   "source": [
    "%%html\n",
    "\n",
    "<div class=\"html-output\">\n",
    "\n",
    "<!-- Beginn eigener Code -->\n",
    "\n",
    "<table>\n",
    "    <tr>\n",
    "        <th>Disziplin</th>\n",
    "        <th>Gesuche</th>\n",
    "        <th>Bewilligt</th>\n",
    "        <th>Anteil bewilligt</th>\n",
    "    </tr>\n",
    "    <tr>\n",
    "        <td>Geistes- und Sozialwissenschaften</td>\n",
    "        <td>988</td>\n",
    "        <td>310</td>\n",
    "        <td>31%</td>\n",
    "    </tr>\n",
    "    <tr>\n",
    "        <td>Mathematik, Natur- und Ingenieurwissenschaften</td>\n",
    "        <td>1110</td>\n",
    "        <td>284</td>\n",
    "        <td>26%</td>\n",
    "    </tr>\n",
    "    <tr>\n",
    "        <td>Biologie und Medizin</td>\n",
    "        <td>1340</td>\n",
    "        <td>344</td>\n",
    "        <td>26%</td>\n",
    "    </tr>\n",
    "</table>\n",
    "\n",
    "<!-- Ende eigener Code -->\n",
    "\n",
    "</div>"
   ]
  },
  {
   "cell_type": "markdown",
   "id": "af7a1fe0-ae6b-4a9f-a98f-5deabf42bde7",
   "metadata": {},
   "source": [
    "## Fehlertoleranz\n",
    "\n",
    "Browser sind typischerweise sehr fehlertolerant, wenn es darum geht, HTML darzustellen. Der Browser wird also immer versuchen, den Inhalt irgendwie noch darzustellen:"
   ]
  },
  {
   "cell_type": "code",
   "execution_count": 20,
   "id": "c04fa95d-3556-44f7-b0a2-48e9ba1102f6",
   "metadata": {},
   "outputs": [
    {
     "data": {
      "text/html": [
       "\n",
       "<div class=\"html-output\">\n",
       "\n",
       "<p>Das ist ein Abschnitt, der zwar mit einem p-Tag geöffnet wird, \n",
       "aber nicht mehr geschlossen wird.\n",
       "<p>Und jetzt wird schon der nächste Abschnitt geöffnet, \n",
       "obwohl der vordere noch nicht geschlossen wurde.\n",
       "\n",
       "</div>\n"
      ],
      "text/plain": [
       "<IPython.core.display.HTML object>"
      ]
     },
     "metadata": {},
     "output_type": "display_data"
    }
   ],
   "source": [
    "%%html\n",
    "\n",
    "<div class=\"html-output\">\n",
    "\n",
    "<p>Das ist ein Abschnitt, der zwar mit einem p-Tag geöffnet wird, \n",
    "aber nicht mehr geschlossen wird.\n",
    "<p>Und jetzt wird schon der nächste Abschnitt geöffnet, \n",
    "obwohl der vordere noch nicht geschlossen wurde.\n",
    "\n",
    "</div>"
   ]
  },
  {
   "cell_type": "code",
   "execution_count": 22,
   "id": "7fd909e3-7f1d-4f10-a3a5-48705eef98e1",
   "metadata": {},
   "outputs": [
    {
     "data": {
      "text/html": [
       "\n",
       "<div class=\"html-output\">\n",
       "\n",
       "<table>\n",
       "    <th>Tier\n",
       "    <th>Lateinischer Name\n",
       "    <tr><td>Bär\n",
       "    <td>Ursus\n",
       "    \n",
       "</div>\n"
      ],
      "text/plain": [
       "<IPython.core.display.HTML object>"
      ]
     },
     "metadata": {},
     "output_type": "display_data"
    }
   ],
   "source": [
    "%%html\n",
    "\n",
    "<div class=\"html-output\">\n",
    "\n",
    "<table>\n",
    "    <th>Tier\n",
    "    <th>Lateinischer Name\n",
    "    <tr><td>Bär\n",
    "    <td>Ursus\n",
    "    \n",
    "</div>"
   ]
  },
  {
   "cell_type": "markdown",
   "id": "386d63d0-9c4a-415d-b83b-129f86dc5027",
   "metadata": {},
   "source": [
    "Und auch wenn HTML Tags falsch geschrieben werden (und auch wenn öffnende und schliessende Tags nicht zusammenpassen), erzeugt der Browser keine Fehlermeldung, sondern stellt den Inhalt weiterhin noch irgendwie dar:"
   ]
  },
  {
   "cell_type": "code",
   "execution_count": 23,
   "id": "529bf2d0-a41a-4937-9da1-d936d125f3a0",
   "metadata": {},
   "outputs": [
    {
     "data": {
      "text/html": [
       "\n",
       "<div class=\"html-output\">\n",
       "\n",
       "<tabel>\n",
       "    <th>Tier\n",
       "    <th>Lateinischer Name\n",
       "    <tr><td>Bär\n",
       "    <td>Ursus\n",
       "</table>\n",
       "\n",
       "</div>\n"
      ],
      "text/plain": [
       "<IPython.core.display.HTML object>"
      ]
     },
     "metadata": {},
     "output_type": "display_data"
    }
   ],
   "source": [
    "%%html\n",
    "\n",
    "<div class=\"html-output\">\n",
    "\n",
    "<tabel>\n",
    "    <th>Tier\n",
    "    <th>Lateinischer Name\n",
    "    <tr><td>Bär\n",
    "    <td>Ursus\n",
    "</table>\n",
    "\n",
    "</div>"
   ]
  },
  {
   "cell_type": "markdown",
   "id": "ead7cf5e-3efe-4105-b650-1e5d9bd90a92",
   "metadata": {},
   "source": [
    "## HTML Dokumentation\n",
    "\n",
    "HTML wurde historisch vom [World Wide Web Consortium (W3C)](https://www.w3.org) als Standard entwickelt. Das W3C wurde 1994 gegründet und wird auch heute noch von Tim Berners-Lee, dem \"Erfinder\" des World Wide Webs geleitet. Heute arbeiten auch weitere Player an diesem Standard. Die  [Dokumentation zu HTML](https://www.w3.org/TR/2021/SPSD-html52-20210128/), die das W3C veröffentlicht, ist sehr umfangreich gehalten und für den Einstieg meist nicht sehr hilfreich.\n",
    "\n",
    "Es gibt aber verschiedenste Websiten, die sich dem Einstieg und dem Überblick über HTML verschrieben haben. Dabei behandeln Tutorials typischerweise Konzepte und die Referenz ist dann hilfreich, wenn man zu einem bestimmten HTML Tag etwas wissen will resp. wenn man einen Überblick über alle existierenden HTML Tags und Attribute erhalten möchte:\n",
    "\n",
    "* W3Schools.com: [HTML Tutorial](https://www.w3schools.com/html/default.asp) / [HTML Referenz](https://www.w3schools.com/tags/default.asp)\n",
    "* SELFHTML: [HTML Tutorials](https://wiki.selfhtml.org/wiki/HTML/Tutorials) / [HTML Referenz](https://wiki.selfhtml.org/wiki/HTML/Elemente)\n",
    "* Mozilla Development Network: [HTML Tutorial](https://developer.mozilla.org/de/docs/Learn/HTML) / [HTML Referenz](https://developer.mozilla.org/de/docs/Web/HTML/Element)\n",
    "\n",
    "Als Programmierer:in ist es wichtig, die entsprechenden Dokumentationen zu kennen und sich darin zurechtzufinden."
   ]
  }
 ],
 "metadata": {
  "kernelspec": {
   "display_name": "Python 3 (ipykernel)",
   "language": "python",
   "name": "python3"
  },
  "language_info": {
   "codemirror_mode": {
    "name": "ipython",
    "version": 3
   },
   "file_extension": ".py",
   "mimetype": "text/x-python",
   "name": "python",
   "nbconvert_exporter": "python",
   "pygments_lexer": "ipython3",
   "version": "3.10.0"
  },
  "toc-autonumbering": true,
  "toc-showcode": false,
  "toc-showmarkdowntxt": false,
  "toc-showtags": false
 },
 "nbformat": 4,
 "nbformat_minor": 5
}
