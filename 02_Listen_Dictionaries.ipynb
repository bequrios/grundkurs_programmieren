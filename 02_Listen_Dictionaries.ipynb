{
 "cells": [
  {
   "cell_type": "markdown",
   "id": "604aa9b5",
   "metadata": {},
   "source": [
    "<img src=\"img/DN.png\" style=\"float:right;width:150px\">\n",
    "\n",
    "Listen und Dictionaries\n",
    "\n",
    "# Übungen in dieser Lektion\n",
    "\n",
    "* [Verschachtelte Listen](#Aufgabe1)\n",
    "* [Listen iterieren](#Aufgabe2)\n",
    "* [List Comprehension](#Aufgabe3)\n",
    "* [For Schleife in Dictionaries](#Aufgabe4)\n",
    "* [Abschlussaufgabe 1](#Aufgabe5)\n",
    "* [Abschlussaufgabe 2](#Aufgabe6)\n",
    "* [Abschlussaufgabe 3](#Aufgabe7)\n",
    "* [Abschlussaufgabe 4](#Aufgabe8)\n",
    "\n",
    "# Listen\n",
    "\n",
    "In Python sind **Listen** (Lists) ein eigener Datentyp. Sie werden verwendet, um verschiedene Elemente in einer einzelnen Variable zu speichern.\n",
    "\n",
    "## Wieso sind Listen nützlich?\n",
    "\n",
    "Nimm an, dass in einem Laden der mittlere Preis aller Produkte berechnet werden soll. Die fünf verkauften Produkte seien durchnummeriert von 0 bis 4. Wenn man keine Listen kennen würde, müsste man das Problem folgendermassen anpacken:\n"
   ]
  },
  {
   "cell_type": "code",
   "execution_count": 118,
   "id": "94ad2a37",
   "metadata": {},
   "outputs": [
    {
     "name": "stdout",
     "output_type": "stream",
     "text": [
      "8.24\n"
     ]
    }
   ],
   "source": [
    "produkt0 = 10.20\n",
    "produkt1 = 12\n",
    "produkt2 = 5.50\n",
    "produkt3 = 8\n",
    "produkt4 = 5.50\n",
    "\n",
    "mittlerer_preis = (produkt0 + produkt1 + produkt2 + produkt3 + produkt4) / 5\n",
    "\n",
    "print(mittlerer_preis)"
   ]
  },
  {
   "cell_type": "markdown",
   "id": "e73ac5ee-a086-4117-a561-c6f2c0dd6041",
   "metadata": {},
   "source": [
    "Dieses Vorgehen ist äusserst ineffizient und fehleranfällig. Viel einfacher geht es mit Listen:"
   ]
  },
  {
   "cell_type": "code",
   "execution_count": 119,
   "id": "ee7c4a80-1828-49c4-b384-bfd902640860",
   "metadata": {},
   "outputs": [
    {
     "name": "stdout",
     "output_type": "stream",
     "text": [
      "8.24\n"
     ]
    }
   ],
   "source": [
    "produkt_preise = [10.20, 12, 5.50, 8, 5.50]\n",
    "\n",
    "mittlerer_preis = sum(produkt_preise) / len(produkt_preise)\n",
    "\n",
    "print(mittlerer_preis)"
   ]
  },
  {
   "cell_type": "markdown",
   "id": "bca802dc-8ca5-4cd2-bcf1-8cb7f3094509",
   "metadata": {},
   "source": [
    "Es gibt eine Vielzahl von integrierten Funktionen, die auf Listen angewendet werden können, wie bspw. `sum()` berechnet die Summe aller Elemente in der Liste und `len()` ergibt die Anzahl von Elemente in einer Liste."
   ]
  },
  {
   "cell_type": "markdown",
   "id": "c3ea81a8-35a1-4cbb-b892-216f953d48e7",
   "metadata": {},
   "source": [
    "## Eigenschaften von Listen\n",
    "\n",
    "Listen werden mit Hilfe von eckigen Klammern `[]` erstellt, die einzelnen Elemente der Liste werden durch Kommas `,` getrennt. Listen gehören zu den sogenannten Python **Data Collections**. Listen sind **sortiert** (die Reihenfolge der Elemente spielt also eine Rolle) und erlauben auch **duplizierte Werte** (im Beispiel oben können also mehrere Produkte den gleichen Preis erhalten).\n",
    "\n",
    "Auf die einzelnen Elemente einer Liste kann mit Hilfe eines Indexes zugegriffen werden. Der Index beginnt in Python bei `[0]`. Man kann auch negative Indizes verwenden, dann wird vom Ende her gezählt (wobei es mathematisch korrekt kein `-0` gibt, sondern das letzte Element die `-1` ist.)"
   ]
  },
  {
   "cell_type": "code",
   "execution_count": 120,
   "id": "8a178d25-51d6-4cdd-9ef4-6f9dcfea0a38",
   "metadata": {},
   "outputs": [
    {
     "name": "stdout",
     "output_type": "stream",
     "text": [
      "10.2\n",
      "12\n",
      "8\n"
     ]
    }
   ],
   "source": [
    "print(produkt_preise[0])\n",
    "print(produkt_preise[1])\n",
    "print(produkt_preise[-2])\n"
   ]
  },
  {
   "cell_type": "markdown",
   "id": "f9daca19-1852-49e7-bb74-2335a6124deb",
   "metadata": {},
   "source": [
    "Wenn auf einen nicht existierenden Index einer Liste zugegriffen wird (dieser Fehler passiert einem erstaunlich häufig), wird eine Fehlermeldung (\"list index out of range\") erzeugt:"
   ]
  },
  {
   "cell_type": "code",
   "execution_count": 121,
   "id": "5c6c0e48-ee9a-4158-a4b0-335a9908f447",
   "metadata": {
    "tags": [
     "raises-exception"
    ]
   },
   "outputs": [
    {
     "ename": "IndexError",
     "evalue": "list index out of range",
     "output_type": "error",
     "traceback": [
      "\u001b[1;31m---------------------------------------------------------------------------\u001b[0m",
      "\u001b[1;31mIndexError\u001b[0m                                Traceback (most recent call last)",
      "\u001b[1;32m<ipython-input-121-c8c7215cdeb6>\u001b[0m in \u001b[0;36m<module>\u001b[1;34m\u001b[0m\n\u001b[1;32m----> 1\u001b[1;33m \u001b[0mprint\u001b[0m\u001b[1;33m(\u001b[0m\u001b[0mprodukt_preise\u001b[0m\u001b[1;33m[\u001b[0m\u001b[1;36m5\u001b[0m\u001b[1;33m]\u001b[0m\u001b[1;33m)\u001b[0m\u001b[1;33m\u001b[0m\u001b[1;33m\u001b[0m\u001b[0m\n\u001b[0m",
      "\u001b[1;31mIndexError\u001b[0m: list index out of range"
     ]
    }
   ],
   "source": [
    "print(produkt_preise[5])"
   ]
  },
  {
   "cell_type": "markdown",
   "id": "ea861a5c-4e30-4110-81d1-244e1d0d18ef",
   "metadata": {},
   "source": [
    "Man kann auch einen Range von Indizes angeben beim Zugriff auf Listen, also gleichzeitig auf mehr als ein Element zugreifen. Das ist insbesondere nützlich, wenn man neue Listen aus einem Teilbereich bestehender Listen bilden möchte. Diesen Range bildet man in eckigen Klammern mit einem Startwert, der mit `:` von einem Schlusswert abgetrennt wird:"
   ]
  },
  {
   "cell_type": "code",
   "execution_count": 122,
   "id": "8e9173eb-31e8-4754-ba61-230cacc742ef",
   "metadata": {},
   "outputs": [
    {
     "name": "stdout",
     "output_type": "stream",
     "text": [
      "['Portugal', 'Russland']\n"
     ]
    }
   ],
   "source": [
    "laender = [\"Deutschland\", \"Portugal\", \"Russland\", \"Thailand\", \"Brasilien\", \"Moldawien\"]\n",
    "\n",
    "laender_auswahl = laender[1:3]\n",
    "\n",
    "print(laender_auswahl)"
   ]
  },
  {
   "cell_type": "markdown",
   "id": "81fba685-ce8f-436e-a917-b97a99d231d6",
   "metadata": {},
   "source": [
    "Wenn man vor oder nach dem `:` keinen Wert angibt, heisst das einfach, von Beginn oder bis zum Ende:"
   ]
  },
  {
   "cell_type": "code",
   "execution_count": 123,
   "id": "8963966e-bf78-40aa-b553-252dbbca415b",
   "metadata": {},
   "outputs": [
    {
     "name": "stdout",
     "output_type": "stream",
     "text": [
      "['Thailand', 'Brasilien', 'Moldawien']\n"
     ]
    }
   ],
   "source": [
    "laender_auswahl = laender[3:]\n",
    "\n",
    "print(laender_auswahl)"
   ]
  },
  {
   "cell_type": "markdown",
   "id": "67e44566-ded2-441c-92f0-c2d4bf04ff2a",
   "metadata": {},
   "source": [
    "Um die Anzahl Elemente einer Liste zu bestimmen, kann man wie oben erwähnt die Funktion `len()` verwenden:"
   ]
  },
  {
   "cell_type": "code",
   "execution_count": 124,
   "id": "55ef6877-9986-476d-bdd6-f892b51f3eb0",
   "metadata": {},
   "outputs": [
    {
     "name": "stdout",
     "output_type": "stream",
     "text": [
      "5\n"
     ]
    }
   ],
   "source": [
    "print(len(produkt_preise))"
   ]
  },
  {
   "cell_type": "markdown",
   "id": "716a622d-a78b-4e73-8952-8f2f4cbb2064",
   "metadata": {},
   "source": [
    "Listen können alle verschiedenen Datentypen speichern, auch verschiedene Typen innerhalb der gleichen Liste sind möglich und man kann innerhalb einer Liste auch weitere Listen speichern (**verschachtelte Listen**):"
   ]
  },
  {
   "cell_type": "code",
   "execution_count": 125,
   "id": "b75b7acc-c26f-4ee3-896e-c78d45e9569c",
   "metadata": {},
   "outputs": [],
   "source": [
    "gemischte_liste = [\"Hallo\", 42, True, [1, [\"Hi\", False, 3.1415], \"Ciao\"]]"
   ]
  },
  {
   "cell_type": "markdown",
   "id": "8e9829d8",
   "metadata": {
    "tags": []
   },
   "source": [
    "<div id=\"Aufgabe1\" style=\"margin:0px; padding:10px; border-style:solid; border-width:2px; border-color:green\">\n",
    "\n",
    "<img src=\"img/dumbbell.png\" style=\"float:right; width:100px\">\n",
    "\n",
    "<span style=\"padding:5px; border-radius:5px; background-color:green; color:white\">Aufgabe</span>\n",
    "\n",
    "Wie kann man wohl per Index im obigen Beispiel der verschachtelten Liste auf den String `\"Hi\"` zugreifen? Erstelle dazu ein `print()` Befehl mit `gemischte_liste`. Tipp: Suche im Internet unter den Stichworten *python nested lists*...\n",
    "</div>"
   ]
  },
  {
   "cell_type": "code",
   "execution_count": 126,
   "id": "8fc99c5c-966d-4cfd-a9bb-e90d195b92d4",
   "metadata": {},
   "outputs": [
    {
     "name": "stdout",
     "output_type": "stream",
     "text": [
      "Hi\n"
     ]
    }
   ],
   "source": [
    "# Beginn eigener Code\n",
    "\n",
    "print(gemischte_liste[3][1][0])\n",
    "\n",
    "# Ende eigener Code"
   ]
  },
  {
   "cell_type": "markdown",
   "id": "875bcbd2",
   "metadata": {},
   "source": [
    "***"
   ]
  },
  {
   "cell_type": "markdown",
   "id": "f789b73d-27e5-47e0-99eb-c403a8dac455",
   "metadata": {},
   "source": [
    "Wenn man prüfen möchte, ob ein Element in einer Liste vorkommt, kann man das Schlüsselwort `in` verwenden:"
   ]
  },
  {
   "cell_type": "code",
   "execution_count": 127,
   "id": "91db0767-8235-473b-833c-26f28723505c",
   "metadata": {},
   "outputs": [
    {
     "name": "stdout",
     "output_type": "stream",
     "text": [
      "Diese Liste beinhaltet den Regionalverkehr Bern-Solothurn\n"
     ]
    }
   ],
   "source": [
    "meine_liste = [\"SBB\", \"BLS\", \"RBS\", \"SOB\", \"RhB\"]\n",
    "\n",
    "if \"RBS\" in meine_liste:\n",
    "    print(\"Diese Liste beinhaltet den Regionalverkehr Bern-Solothurn\")"
   ]
  },
  {
   "cell_type": "markdown",
   "id": "65a260f7-9a30-4b9f-a7bd-feda1fc520e0",
   "metadata": {},
   "source": [
    "## Listen sortieren\n",
    "\n",
    "Es gibt zwei verschiedene wichtige Funktionen für das Sortieren von Listen: Einerseits `sort()`, welche eine Methode der Klasse Liste ist und eine bestehende Liste sortiert (man spricht auch von einer \"in place modification\") und andererseits `sorted()`, welche als Argument eine Liste benötigt und eine sortierte Liste zurückgibt, die dann bspw. in einer neuen Liste gespeichert werden kann. Beide Funktionen kennen auch die Möglichkeit, umgekehrt zu sortieren."
   ]
  },
  {
   "cell_type": "code",
   "execution_count": 128,
   "id": "388ab8f8-8710-49a5-9255-5cfdc52f42e9",
   "metadata": {},
   "outputs": [
    {
     "name": "stdout",
     "output_type": "stream",
     "text": [
      "[-2, 0, 1, 2, 8, 9, 12, 123, 211]\n",
      "['Xandia', 'Oliver', 'Kishor', 'Juan', 'Aishwarya', 'Adelheid']\n"
     ]
    }
   ],
   "source": [
    "numbers = [8, 2, 9, 12, 1, -2, 0, 123, 211]\n",
    "numbers.sort() # in place modification\n",
    "print(numbers)\n",
    "\n",
    "unordered_names = [\"Oliver\", \"Xandia\", \"Aishwarya\", \"Kishor\", \"Juan\", \"Adelheid\"]\n",
    "ordered_names = sorted(unordered_names, reverse = True)\n",
    "print(ordered_names)"
   ]
  },
  {
   "cell_type": "markdown",
   "id": "7f2c1e38-6bcb-40e1-af8b-d993f1210b7d",
   "metadata": {},
   "source": [
    "## Listen erweitern\n",
    "\n",
    "Die Erweiterung von Listen mit neuen Elementen kann mit `append()` und `insert()` geschehen. Die erstere Funktion fügt das Element am Schluss der Liste ein und die letztere erlaubt es, einen Index (Achtung: Index startet bei 0) anzugeben, wo das Element eingefügt werden soll:"
   ]
  },
  {
   "cell_type": "code",
   "execution_count": 129,
   "id": "ab304214-b748-4a01-98d5-ddffadecf0cb",
   "metadata": {},
   "outputs": [
    {
     "name": "stdout",
     "output_type": "stream",
     "text": [
      "['Apfel', 'Traube', 'Kiwi', 'Banane']\n"
     ]
    }
   ],
   "source": [
    "fruechte = [\"Apfel\", \"Traube\", \"Kiwi\"]\n",
    "\n",
    "fruechte.append(\"Banane\")\n",
    "\n",
    "print(fruechte)"
   ]
  },
  {
   "cell_type": "code",
   "execution_count": 130,
   "id": "cf661ff1-6f95-4462-87b2-a39721027d4b",
   "metadata": {},
   "outputs": [
    {
     "name": "stdout",
     "output_type": "stream",
     "text": [
      "['Apfel', 'Papaya', 'Traube', 'Kiwi', 'Banane']\n"
     ]
    }
   ],
   "source": [
    "fruechte.insert(1, \"Papaya\")\n",
    "\n",
    "print(fruechte)"
   ]
  },
  {
   "cell_type": "markdown",
   "id": "561ed328-9475-4d05-8eb5-48dc227b5b27",
   "metadata": {},
   "source": [
    "Hier sehen wir ein wichtiges Konzept der Objektorientierung von Python, die beiden **Methoden** `append()` und `insert()` werden direkt auf das Listenobjekt angewandt, deshalb werden sie mit dem Syntax `listenname.methode()` aufgerufen. Damit ist auch sofort klar, auf welche Liste sie angewandt werden sollen. Als Methoden werden übrigens Funktionen bezeichnet, die zu einem bestimmten Objekt(typ) gehören."
   ]
  },
  {
   "cell_type": "markdown",
   "id": "7a65084a-bff2-4c4c-96ec-14b214351639",
   "metadata": {},
   "source": [
    "<div style=\"padding:10px; border-style:solid; border-width:1px\">\n",
    "\n",
    "Weitere **Methoden des Listen Objekts** findest du bei <a href=\"https://www.w3schools.com/python/python_lists_methods.asp\"><img src=\"img/w3schools.svg\" width=\"40px\"></a>\n",
    "    \n",
    "</div>"
   ]
  },
  {
   "cell_type": "markdown",
   "id": "0c80a6c7-a5d3-4dba-a343-7337d720e633",
   "metadata": {},
   "source": [
    "## Listen iterieren\n",
    "\n",
    "Häufig ist man damit konfrontiert, dass man auf alle Elemente einer Liste eine bestimmte Operation durchführen möchte. Man möchte also die Liste durchiterieren. Dazu kennen wir mit der For Schleife bereits das nötige Hilfsmittel (weil Listen sind auch eine Sequence und damit per se tauglich für eine For Schleife):"
   ]
  },
  {
   "cell_type": "code",
   "execution_count": 131,
   "id": "0460de49-3f67-42c8-a2ab-cec63d82d813",
   "metadata": {},
   "outputs": [
    {
     "name": "stdout",
     "output_type": "stream",
     "text": [
      "Hallo Shankar, willkommen im Grundkurs Programmieren!\n",
      "Hallo Simon, willkommen im Grundkurs Programmieren!\n",
      "Hallo Greta, willkommen im Grundkurs Programmieren!\n",
      "Hallo Ibrahim, willkommen im Grundkurs Programmieren!\n",
      "Hallo Aleyna, willkommen im Grundkurs Programmieren!\n",
      "Hallo Kunigunde, willkommen im Grundkurs Programmieren!\n"
     ]
    }
   ],
   "source": [
    "namen = [\"Shankar\", \"Simon\", \"Greta\", \"Ibrahim\", \"Aleyna\", \"Kunigunde\"]\n",
    "\n",
    "for person in namen:\n",
    "    print(\"Hallo \" + person + \", willkommen im Grundkurs Programmieren!\")"
   ]
  },
  {
   "cell_type": "markdown",
   "id": "fe9162cf-2592-4bdf-ad13-03e960868d7f",
   "metadata": {},
   "source": [
    "<div id=\"Aufgabe2\" style=\"margin:0px; padding:10px; border-style:solid; border-width:2px; border-color:green\">\n",
    "\n",
    "<img src=\"img/dumbbell.png\" style=\"float:right; width:100px\">\n",
    "\n",
    "<span style=\"padding:5px; border-radius:5px; background-color:green; color:white\">Aufgabe</span>\n",
    "\n",
    "Gib per `print()` Befehl und mit Hilfe einer For Schleife für alle Elemente der nachfolgenden Liste jeweils die Differenz zur Zahl 100 an.\n",
    "</div>"
   ]
  },
  {
   "cell_type": "code",
   "execution_count": 11,
   "id": "49f26fa9-101b-4754-9b81-5cd8d3e6f408",
   "metadata": {},
   "outputs": [
    {
     "name": "stdout",
     "output_type": "stream",
     "text": [
      "58\n",
      "96.8585\n",
      "55\n",
      "0\n",
      "112\n",
      "12\n",
      "0.00010000000000331966\n"
     ]
    }
   ],
   "source": [
    "zahlen = [42, 3.1415, 45, 100, -12, 88, 99.9999]\n",
    "\n",
    "# Beginn eigener Code\n",
    "\n",
    "for zahl in zahlen:\n",
    "    print(100 - zahl)\n",
    "    \n",
    "# Ende eigener Code"
   ]
  },
  {
   "cell_type": "markdown",
   "id": "7de473e9-ca5c-4c72-83e7-ad0de7912064",
   "metadata": {},
   "source": [
    "Bemerkung: Bei der Differenz zu 99.9999 kann man gut erkennen, dass der Computer Mühe haben kann mit der Berechnung von nicht-Integer Zahlen. Das Resultat müsste ja eigentlich exakt 0.0001 sein, ist es in vielen Fällen aber nicht."
   ]
  },
  {
   "cell_type": "markdown",
   "id": "4cc23b87-783b-4007-b8ad-8f8010b09458",
   "metadata": {},
   "source": [
    "***"
   ]
  },
  {
   "cell_type": "markdown",
   "id": "6b1d7ccc-da19-4df4-84bc-d05d5f84d7a5",
   "metadata": {},
   "source": [
    "## List Comprehensions\n",
    "\n",
    "Sogenannte List Comprehensions sind nützlich, wenn man neue Listen basierend auf bestehenden Listen erzeugen möchte, aber nur bestimmte Einträge der bestehenden Liste übernehmen möchte. Sie stellen einen kompakteren Syntax zur Verfügung, um häufige Probleme zu lösen. Nachfolgend das gleiche Problem einmal mit und einmal ohne List Comprehension gelöst. Aus einer Liste mit Politikerinnen sollen nur Ständerätinnen in einer neuen Liste gespeichert werden (diese haben den Präfix \"SR_\"):"
   ]
  },
  {
   "cell_type": "code",
   "execution_count": 14,
   "id": "a12f5e15-74b1-4b41-a6db-805867885940",
   "metadata": {},
   "outputs": [
    {
     "name": "stdout",
     "output_type": "stream",
     "text": [
      "['SR_Baume-Schneider', 'SR_Carobbio_Guscetti', 'SR_Gapany']\n"
     ]
    }
   ],
   "source": [
    "politikerinnen = [\"BR_Amherd\", \"BR_Sommaruga\", \"BR_Keller-Sutter\", \"SR_Baume-Schneider\", \n",
    "                  \"SR_Carobbio_Guscetti\", \"SR_Gapany\", \"NR_Amaudruz\", \"NR_Arslan\", \"NR_Batertscher\"]\n",
    "\n",
    "# ohne List Comprehension\n",
    "staenderaetinnen = []\n",
    "\n",
    "for frau in politikerinnen:\n",
    "    if \"SR\" in frau:\n",
    "        staenderaetinnen.append(frau)\n",
    "        \n",
    "print(staenderaetinnen)"
   ]
  },
  {
   "cell_type": "code",
   "execution_count": 134,
   "id": "db58d00b-e869-4480-b427-a7458316af17",
   "metadata": {},
   "outputs": [
    {
     "name": "stdout",
     "output_type": "stream",
     "text": [
      "['SR_Baume-Schneider', 'SR_Carobbio_Guscetti', 'SR_Gapany']\n"
     ]
    }
   ],
   "source": [
    "# mit List Comprehension\n",
    "staenderaetinnen = [frau for frau in politikerinnen if \"SR\" in frau]\n",
    "\n",
    "print(staenderaetinnen)"
   ]
  },
  {
   "cell_type": "markdown",
   "id": "d8bc6ce2-f886-4dc4-a941-01e3fb3af896",
   "metadata": {},
   "source": [
    "Hier sehen wir ein etwas anderes Beispiel des `in` Schlüsselwortes. Man kann mit `in` nicht nur überprüfen, ob ein bestimmtes Element in einer Liste vorkommt, sondern auch ob ein sogenannter **Substring** innerhalb eines Strings vorkommt. Ganz präzise ist es mit `in` möglich nach einem Wert in einer Sequence zu suchen."
   ]
  },
  {
   "cell_type": "markdown",
   "id": "2c7bef52-65a6-4394-bdb6-4c31e3fefff7",
   "metadata": {},
   "source": [
    "Die allgemeine Form der List Comprehension lautet: `neue_liste = [expression for item in iterable if condition == True]`. Der mittlere Teil `for item in iterable` kennen wir dabei aus der For Schleife, es wird also jeweils ein Element unter der Variable item aus iterable verfügbar gemacht. Der Teil mit der Bedingung `if condition == True` kennen wir aus der If Verzweigung. Es werden also nur diejenigen Elemente in die neue Liste übernommen, die die Bedingung erfüllen. Der erste Teil mit `expression` erlaubt es, weitere Manipulationen an denjenigen Elementen durchzuführen, die in die neue Liste übernommen wurden. Wenn keine weitere Manipulation nötig ist (wie im Beispiel oben), dann wird einfach nochmals `item` eingefügt."
   ]
  },
  {
   "cell_type": "markdown",
   "id": "ebe16d36-9bee-4885-affd-9aadd1051c55",
   "metadata": {},
   "source": [
    "<div id=\"Aufgabe3\" style=\"margin:0px; padding:10px; border-style:solid; border-width:2px; border-color:green\">\n",
    "\n",
    "<img src=\"img/dumbbell.png\" style=\"float:right; width:100px\">\n",
    "\n",
    "<span style=\"padding:5px; border-radius:5px; background-color:green; color:white\">Aufgabe</span>\n",
    "\n",
    "Erstelle eine Liste mit Bundesrätinnen per List Comprehension aus der Liste der `politikerinnen` von oben. Konstruiere die List Comprehension so, dass gleichzeitig der Präfix \"BR_\" vom Namen entefernt wird, die entstehende Liste soll also so aussehen: `bundesraetinnen = [\"Amherd\", \"Sommaruga\", \"Keller-Sutter\"]`. Tipp: Nutze dazu dein Wissen über Mehrfachauswahl mit dem Konstrukt `[:]`, welches auch bei einem String funktioniert, um nur Teile eines Strings auszuwählen. Dieses Konstrukt kann innerhalb der Expression angewandt werden.\n",
    "</div>"
   ]
  },
  {
   "cell_type": "code",
   "execution_count": 17,
   "id": "712a7d29-2a87-4647-ab3a-c47fccba437e",
   "metadata": {},
   "outputs": [
    {
     "name": "stdout",
     "output_type": "stream",
     "text": [
      "['Amherd', 'Sommaruga', 'Keller-Sutter']\n"
     ]
    }
   ],
   "source": [
    "# Beginn eigener Code\n",
    "\n",
    "bundesraetinnen = [frau[3:] for frau in politikerinnen if \"BR\" in frau]\n",
    "\n",
    "print(bundesraetinnen)\n",
    "\n",
    "# Ende eigener Code"
   ]
  },
  {
   "cell_type": "markdown",
   "id": "3dd4edb2-19e6-44d3-8342-8a00c416784e",
   "metadata": {},
   "source": [
    "***"
   ]
  },
  {
   "cell_type": "markdown",
   "id": "4b6be506-18fc-4824-b101-f834857f4f1b",
   "metadata": {},
   "source": [
    "<div style=\"padding:10px; border-style:solid; border-width:1px\">\n",
    "\n",
    "Weitere Infos zu Listen, wie bspw. sortieren von Listen, kopieren von Listen, löschen von Listenelementen etc. findest du bei <a href=\"https://www.w3schools.com/python/python_lists.asp\"><img src=\"img/w3schools.svg\" width=\"40px\"></a>\n",
    "    \n",
    "</div>"
   ]
  },
  {
   "cell_type": "markdown",
   "id": "8f181af3-621e-47d4-9c17-0656d9e86326",
   "metadata": {},
   "source": [
    "# Dictionaries\n",
    "\n",
    "Dictionaries (selten Wörterbücher oder auch *assoziative Liste*) gehören ebenfalls zu den Python **Data Collections**. Der Unterschied zu der Liste ist, dass die Werte nicht indexbasiert gespeichert werden, sondern in sogenannten \"Schlüssel-Wert\" (key:value) Paaren. Dictionaries werden mit geschweiften Klammern ```{}``` definiert. Zuerst wird der Schlüssel angegeben, danach der Wert getrennt durch einen Doppelpunkt ```:```."
   ]
  },
  {
   "cell_type": "code",
   "execution_count": 136,
   "id": "a2265143-e231-4851-8caf-01e7e4d8e2ee",
   "metadata": {},
   "outputs": [],
   "source": [
    "my_apple = {\n",
    "    \"color\": \"red\",\n",
    "    \"type\": \"braeburn\",\n",
    "    \"weight\": 100\n",
    "}"
   ]
  },
  {
   "cell_type": "markdown",
   "id": "1efefce8-8e10-4fae-a865-555a03e2b99f",
   "metadata": {},
   "source": [
    "Als Werte können alle Python Datentypen verwendet werden, man kann also zu einem Schlüssel durchaus auch eine Liste oder wieder ein Dictionary als Wert definieren: "
   ]
  },
  {
   "cell_type": "code",
   "execution_count": 137,
   "id": "9cec1409-9770-47d5-89cc-fdeb6a5e1e48",
   "metadata": {},
   "outputs": [],
   "source": [
    "my_apples = {\n",
    "    \"color\": \"red\",\n",
    "    \"type\": \"braeburn\",\n",
    "    \"weight\": [100, 125, 80, 120]\n",
    "}"
   ]
  },
  {
   "cell_type": "markdown",
   "id": "b0cd206b-fa26-4bce-b07c-bb3cfef365dc",
   "metadata": {},
   "source": [
    "## Auf Elemente zugreifen\n",
    "\n",
    "Auf Elemente eines Dictionary kann mit Hilfe des Schlüssels in eckigen Klammern ```[]``` zugegriffen werden:"
   ]
  },
  {
   "cell_type": "code",
   "execution_count": 138,
   "id": "5149331d-d3f3-46cb-b8ae-a85bd8b31a22",
   "metadata": {},
   "outputs": [
    {
     "name": "stdout",
     "output_type": "stream",
     "text": [
      "red\n"
     ]
    }
   ],
   "source": [
    "apple_color = my_apple[\"color\"]\n",
    "print(apple_color)"
   ]
  },
  {
   "cell_type": "markdown",
   "id": "206b09aa-c8e9-4437-a0f8-c52bb1fe6297",
   "metadata": {},
   "source": [
    "Ein Zugriff auf einen nicht existierenden Schlüssel erzeugt eine Fehlermeldung mit `KeyError`"
   ]
  },
  {
   "cell_type": "code",
   "execution_count": 139,
   "id": "d0c70219-0847-4269-9530-467f29d2f139",
   "metadata": {
    "tags": [
     "raises-exception"
    ]
   },
   "outputs": [
    {
     "ename": "KeyError",
     "evalue": "'price'",
     "output_type": "error",
     "traceback": [
      "\u001b[1;31m---------------------------------------------------------------------------\u001b[0m",
      "\u001b[1;31mKeyError\u001b[0m                                  Traceback (most recent call last)",
      "\u001b[1;32m<ipython-input-139-7f45ce28242b>\u001b[0m in \u001b[0;36m<module>\u001b[1;34m\u001b[0m\n\u001b[1;32m----> 1\u001b[1;33m \u001b[0mmy_apple\u001b[0m\u001b[1;33m[\u001b[0m\u001b[1;34m\"price\"\u001b[0m\u001b[1;33m]\u001b[0m\u001b[1;33m\u001b[0m\u001b[1;33m\u001b[0m\u001b[0m\n\u001b[0m",
      "\u001b[1;31mKeyError\u001b[0m: 'price'"
     ]
    }
   ],
   "source": [
    "my_apple[\"price\"]"
   ]
  },
  {
   "cell_type": "markdown",
   "id": "262b6f09-565b-4bc6-8b78-5a024950abef",
   "metadata": {},
   "source": [
    "## Elemente ändern und hinzufügen\n",
    "\n",
    "Werte in einem Dictionary können verändert werden:"
   ]
  },
  {
   "cell_type": "code",
   "execution_count": 140,
   "id": "28258b2c-cc3e-45cc-b57e-8d62abf21a9c",
   "metadata": {},
   "outputs": [
    {
     "name": "stdout",
     "output_type": "stream",
     "text": [
      "red\n",
      "orange\n"
     ]
    }
   ],
   "source": [
    "print(my_apple[\"color\"])\n",
    "my_apple[\"color\"] = \"orange\"\n",
    "print(my_apple[\"color\"])"
   ]
  },
  {
   "cell_type": "markdown",
   "id": "eeb7c7ca-8ad1-4582-9336-c1e64f2d4fa7",
   "metadata": {},
   "source": [
    "Neue Schlüssel Wert Paare können hinzugefügt werden (in diesem Fall gibt es keinen \"KeyError\", weil dem neuen Key gleich noch einen Wert zugefügt wird):"
   ]
  },
  {
   "cell_type": "code",
   "execution_count": 141,
   "id": "6ab7d948-35cf-411e-a37c-43c1e60b4757",
   "metadata": {},
   "outputs": [
    {
     "name": "stdout",
     "output_type": "stream",
     "text": [
      "{'color': 'orange', 'type': 'braeburn', 'weight': 100, 'origin': 'Switzerland'}\n"
     ]
    }
   ],
   "source": [
    "my_apple[\"origin\"] = \"Switzerland\"\n",
    "print(my_apple)"
   ]
  },
  {
   "cell_type": "markdown",
   "id": "2f5f04ca-2263-420e-92b1-c4c88ec1b683",
   "metadata": {},
   "source": [
    "## Dictionaries iterieren\n",
    "\n",
    "Mit Hilfe einer For Schleife kann durch ein Dictionary iteriert werden:"
   ]
  },
  {
   "cell_type": "code",
   "execution_count": 142,
   "id": "d9f70a64-b381-46ae-af48-d3765cc35436",
   "metadata": {},
   "outputs": [
    {
     "name": "stdout",
     "output_type": "stream",
     "text": [
      "color\n",
      "type\n",
      "weight\n",
      "origin\n"
     ]
    }
   ],
   "source": [
    "for x in my_apple:\n",
    "    print(x)"
   ]
  },
  {
   "cell_type": "markdown",
   "id": "5512229e-a9a9-4312-90ba-9a6cf75c4b9f",
   "metadata": {},
   "source": [
    "Im obigen Falle werden also für ```x``` die Schlüssel eingesetzt (und nicht etwa die Werte, wie man es sich auch vorstellen könnte)."
   ]
  },
  {
   "cell_type": "markdown",
   "id": "bfb7ba68-077e-4eec-ac11-a872a78e185a",
   "metadata": {},
   "source": [
    "<div id=\"Aufgabe4\" style=\"margin:0px; padding:10px; border-style:solid; border-width:2px; border-color:green\">\n",
    "\n",
    "<img src=\"img/dumbbell.png\" style=\"float:right; width:100px\">\n",
    "\n",
    "<span style=\"padding:5px; border-radius:5px; background-color:green; color:white\">Aufgabe</span>\n",
    "\n",
    "Erstelle eine For Schleife, die die Werte zu den einzelnen Schlüssel des Dictionary ```my_apple``` ausgibt.\n",
    "    \n",
    "</div>"
   ]
  },
  {
   "cell_type": "code",
   "execution_count": 143,
   "id": "dc3fc28c-28ab-4762-b4ba-15e145a6ea95",
   "metadata": {},
   "outputs": [
    {
     "name": "stdout",
     "output_type": "stream",
     "text": [
      "orange\n",
      "braeburn\n",
      "100\n",
      "Switzerland\n"
     ]
    }
   ],
   "source": [
    "# Beginn eigener Code\n",
    "\n",
    "for x in my_apple:\n",
    "    print(my_apple[x])\n",
    "\n",
    "# Ende eigener Code"
   ]
  },
  {
   "cell_type": "markdown",
   "id": "095df57a-3926-4c8b-83fb-c2d6ce6dc7ef",
   "metadata": {},
   "source": [
    "***"
   ]
  },
  {
   "cell_type": "markdown",
   "id": "98f76afa-6893-494c-9fa0-e986b4240a0f",
   "metadata": {},
   "source": [
    "Wenn man gleichzeitig Zugriff auf Schlüssel und Wert haben möchte, kann man dafür die Funktion ```items()``` verwenden:"
   ]
  },
  {
   "cell_type": "code",
   "execution_count": 144,
   "id": "5a264b98-1029-41c5-a91f-1419bbd1cd1c",
   "metadata": {},
   "outputs": [
    {
     "name": "stdout",
     "output_type": "stream",
     "text": [
      "The color is: orange\n",
      "The type is: braeburn\n",
      "The weight is: 100\n",
      "The origin is: Switzerland\n"
     ]
    }
   ],
   "source": [
    "for key, value in my_apple.items():\n",
    "    print(\"The\", key, \"is:\", value)"
   ]
  },
  {
   "cell_type": "markdown",
   "id": "99ca7400-033e-4083-8ae6-a08c26ec22df",
   "metadata": {},
   "source": [
    "## Dictionaries kopieren\n",
    "\n",
    "Dictionaries können nicht einfach so kopiert werden mit ```dict_2 = dict_1``` weil in diesem Fall nur eine Referenz erzeug wird und nicht ein eigentliches zweites Dictionary, wenn also etwas an ```dict_1``` geändert wird, ist diese Änderung auch bei ```dict_2``` sichtbar, weil dieses ja nur auf das ```dict_1``` \"zeigt\":"
   ]
  },
  {
   "cell_type": "code",
   "execution_count": 145,
   "id": "742ce6fc-1ec7-4c2b-8010-776b8d840639",
   "metadata": {},
   "outputs": [
    {
     "name": "stdout",
     "output_type": "stream",
     "text": [
      "New Zealand\n"
     ]
    }
   ],
   "source": [
    "my_other_apple = my_apple\n",
    "\n",
    "my_apple[\"origin\"] = \"New Zealand\"\n",
    "\n",
    "print(my_other_apple[\"origin\"])"
   ]
  },
  {
   "cell_type": "markdown",
   "id": "5e0c3987-948e-4087-b2ca-510bb66dd216",
   "metadata": {},
   "source": [
    "Dies ist ein extrem wichtiges Konzept beim Programmieren. Man muss immer wissen, ob ein Objekt tatsächlich kopiert wurde und damit \"eigentständig\" wird oder ob es nur eine Referenz resp. \"Zeiger\" auf ein anderes Objekt ist und damit nicht eigentständig existiert. Wenn man ein Dictionary tatsächlich kopieren möchte, kann man die ```copy()``` Funktion des Dictionary brauchen:"
   ]
  },
  {
   "cell_type": "code",
   "execution_count": 146,
   "id": "5381d130-9dc6-4e4c-bed1-2bb4c4f4b6da",
   "metadata": {},
   "outputs": [
    {
     "name": "stdout",
     "output_type": "stream",
     "text": [
      "New Zealand\n",
      "Südtirol\n"
     ]
    }
   ],
   "source": [
    "my_other_apple = my_apple.copy()\n",
    "\n",
    "my_apple[\"origin\"] = \"Südtirol\"\n",
    "\n",
    "print(my_other_apple[\"origin\"])\n",
    "print(my_apple[\"origin\"])"
   ]
  },
  {
   "cell_type": "markdown",
   "id": "953a8460-c28c-4bab-bcba-17e9f2f909cc",
   "metadata": {},
   "source": [
    "Wenn man ein Dictionary aus zwei separaten Listen (eine für die Schlüssel, die andere für die Werte) erstellen möchte, ist die ```zip()``` Funktion hilfreich, welche iterierbare Objekte (wie bspw. Listen) zu einem zip Objekt verbindet. Dieses zip Objekt kann dann mit Hilfe der Funktion ```dict()``` in ein Dictionary umgewandelt werden:"
   ]
  },
  {
   "cell_type": "code",
   "execution_count": 147,
   "id": "31b3aee4-4eda-4787-9bc9-8b639bd211ff",
   "metadata": {},
   "outputs": [
    {
     "name": "stdout",
     "output_type": "stream",
     "text": [
      "{'Name': 'Rupert', 'Vorname': 'Sabrina', 'Adresse': 'Wägli 12', 'PLZ': '9873', 'Ort': 'Obergoldiwilbächligen'}\n"
     ]
    }
   ],
   "source": [
    "my_keys = [\"Name\", \"Vorname\", \"Adresse\", \"PLZ\", \"Ort\"]\n",
    "my_values = [\"Rupert\", \"Sabrina\", \"Wägli 12\", \"9873\", \"Obergoldiwilbächligen\"]\n",
    "\n",
    "my_dictionary = dict(zip(my_keys, my_values))\n",
    "print(my_dictionary)"
   ]
  },
  {
   "cell_type": "markdown",
   "id": "f9a05992-9680-4592-a56d-5ef5da074422",
   "metadata": {},
   "source": [
    "## Dictionary Comprehensions\n",
    "\n",
    "Ähnlich der List Comprehensions existieren Dictionary Comprehensions, um aus bestehenden Dictionaries neue zu erzeugen, dabei aber nur bestimmte Schlüssel Wert Paare zu übernehmen (solche, die eine Bedingung erfüllen) und allenfalls diese Schlüssel Wert Paare auch noch zu verändern. Die allgemeine Form der Dictionary Comprehension lautet: `new_dictionary = {expression(k):expression(v) for (k, v) in dictionary if condition == True}`. Das wirkt auf den ersten Blick verwirrend, wird aber beim praktischen Einsatz etwas klarer:"
   ]
  },
  {
   "cell_type": "code",
   "execution_count": 148,
   "id": "86090deb-fe88-4d10-b270-5da0475b5190",
   "metadata": {},
   "outputs": [
    {
     "name": "stdout",
     "output_type": "stream",
     "text": [
      "{'color': 'ORANGE', 'type': 'BRAEBURN', 'origin': 'SÜDTIROL'}\n"
     ]
    }
   ],
   "source": [
    "my_apple_new = {k:v.upper() for (k, v) in my_apple.items() if type(v) == str}\n",
    "print(my_apple_new)"
   ]
  },
  {
   "cell_type": "markdown",
   "id": "9c336a7d-bcfd-42a9-8954-5f62ee06052e",
   "metadata": {},
   "source": [
    "Die Erklärung zu obiger Dictionary Comprehension: Wir nehmen das Dictionary `my_apple`, welches wir in obenstehenden Zellen definiert haben, dieses durchlaufen wir ähnlich einer For Schleife und wollen dabei Zugriff auf Schlüssel und Werte haben, deshalb brauchen wir die `items()` Funktion angewandt auf unser Dictionary `my_apple`. Wir wollen, dass während der Iteration Schlüssel und Wert unter der Variable `k` und `v` verfügbar sind, was durch die Notation `(k, v)` festegelegt wird. Jetzt wollen wir aber nur diejenigen Werte im neuen Dictionary drin haben, welche vom Typ `str`, also ein Wort sind. Dies erreichen wir durch die if Bedingung ganz hinten. Als letztes wollen wir jetzt aber die Werte in Grossbuchstaben haben, das erreichen wir mit `v.upper()`."
   ]
  },
  {
   "cell_type": "markdown",
   "id": "2900aaeb-c02d-4d5d-bd86-b30d1e253014",
   "metadata": {
    "tags": []
   },
   "source": [
    "# Abschlussaufgaben\n",
    "\n",
    "<div id=\"Aufgabe5\" style=\"margin:0px; padding:10px; border-style:solid; border-width:2px; border-color:green;\">\n",
    "\n",
    "<img src=\"img/dumbbell.png\" style=\"float:right; width:100px\">\n",
    "\n",
    "<span style=\"padding:5px; border-radius:5px; background-color:green; color:white\">Aufgabe</span>\n",
    "\n",
    "Schau dir die nachfolgende Funktionen `get_divisibles(numbers, factor)` an und überlege Dir, was sie bewirken wird. Überprüfe Deine Vermutung anschliessend mit der Ausführung der Zelle. Der `%` Operator ist der sogenannte Modulo Operator und er gibt den Restwert zurück, der bei einer Division entsteht. Beispiel: `10 % 3` ergibt `1`. Also 10 geteilt durch 3 ergibt den Rest 1.\n",
    "\n",
    "</div>"
   ]
  },
  {
   "cell_type": "code",
   "execution_count": 149,
   "id": "0dd46d3f-e86b-4684-9a8e-aaad9dec7afc",
   "metadata": {},
   "outputs": [
    {
     "name": "stdout",
     "output_type": "stream",
     "text": [
      "[6, 8, 14, 18, 342]\n",
      "[5, 20, 25, 30, 40]\n"
     ]
    }
   ],
   "source": [
    "def get_divisibles(numbers, factor):\n",
    "    return [x for x in numbers if x % factor == 0]\n",
    "\n",
    "print(get_divisibles([1, 3, 6, 8, 11, 14, 18, 21, 321, 342], 2))\n",
    "print(get_divisibles([4, 5, 8, 19, 20, 23, 25, 30, 31, 39, 40], 5))"
   ]
  },
  {
   "cell_type": "markdown",
   "id": "ca8151fd-e9f3-4fe0-8336-73d91f708932",
   "metadata": {},
   "source": [
    "<div id=\"Aufgabe6\" style=\"margin:0px; padding:10px; border-style:solid; border-width:2px; border-color:green;\">\n",
    "\n",
    "<img src=\"img/dumbbell.png\" style=\"float:right; width:100px\">\n",
    "\n",
    "<span style=\"padding:5px; border-radius:5px; background-color:green; color:white\">Aufgabe</span>\n",
    "\n",
    "Schau dir die nachfolgende Funktionen `say_hello(hello_dict)` an und überlege Dir, was sie bewirken wird. Überprüfe Deine Vermutung anschliessend mit der Ausführung der Zelle.\n",
    "\n",
    "</div>"
   ]
  },
  {
   "cell_type": "code",
   "execution_count": 150,
   "id": "89c7527f-ed51-4abf-a2bc-89dfeb19b413",
   "metadata": {},
   "outputs": [
    {
     "name": "stdout",
     "output_type": "stream",
     "text": [
      "auf Deutsch sagen wir Guten Tag, auf Englisch sagen wir Hello, auf Französisch sagen wir Bonjour, auf Italienisch sagen wir Buongiorno, auf Rätoromanisch sagen wir Allegra, \n"
     ]
    }
   ],
   "source": [
    "my_dict = {\n",
    "    \"Deutsch\": \"Guten Tag\",\n",
    "    \"Englisch\": \"Hello\",\n",
    "    \"Französisch\": \"Bonjour\",\n",
    "    \"Italienisch\": \"Buongiorno\",\n",
    "    \"Rätoromanisch\": \"Allegra\"\n",
    "}\n",
    "\n",
    "def say_hello(hello_dict):\n",
    "    result = \"\"\n",
    "    for lang, hello in hello_dict.items():\n",
    "        result += \"auf \" + lang + \" sagen wir \" + hello + \", \"\n",
    "    return result\n",
    "\n",
    "print(say_hello(my_dict))"
   ]
  },
  {
   "cell_type": "markdown",
   "id": "990f4f5e-3a0d-48ab-98a5-f787a1981429",
   "metadata": {},
   "source": [
    "<div id=\"Aufgabe7\" style=\"margin:0px; padding:10px; border-style:solid; border-width:2px; border-color:green;\">\n",
    "\n",
    "<img src=\"img/dumbbell.png\" style=\"float:right; width:100px\">\n",
    "\n",
    "<span style=\"padding:5px; border-radius:5px; background-color:green; color:white\">Aufgabe</span>\n",
    "\n",
    "Definiere nun eine eigene Funktion `nth_smallest(numbers, nth)` so, dass sie folgendes bewirkt:\n",
    "* sie soll die nth-kleinste Nummer aus der Liste numbers zurückgeben\n",
    "* beachte, dass die Zahlen in numbers mehrfach vorkommen können\n",
    "* sollte keine Lösung existieren (bspw. 8-kleinste Nummer aus 5 Zahlen), soll None zurückgegeben werden\n",
    "\n",
    "Beispiel: \n",
    "* `print(nth_smallest([4, 5, 7, 3, 1, 1], 1))` soll eine 1 ausgeben \n",
    "* `print(nth_smallest([4, 5, 7, 3, 1, 1, 3], 2))` soll eine 3 ausgeben\n",
    "* `print(nth_smallest([4, 4, 4, 4, 5], 3))` soll None ausgeben.\n",
    "\n",
    "</div>"
   ]
  },
  {
   "cell_type": "code",
   "execution_count": 151,
   "id": "6cafeee7-cda7-4efd-a46e-dffa9579ee36",
   "metadata": {},
   "outputs": [
    {
     "name": "stdout",
     "output_type": "stream",
     "text": [
      "1\n",
      "3\n",
      "None\n"
     ]
    }
   ],
   "source": [
    "def nth_smallest(numbers, nth):\n",
    "# Beginn eigener Code\n",
    "\n",
    "    numbers.sort()\n",
    "    unique_numbers = []\n",
    "    for number in numbers:\n",
    "        if number not in unique_numbers:\n",
    "            unique_numbers.append(number)\n",
    "    if nth > len(unique_numbers):\n",
    "        return None\n",
    "    return unique_numbers[nth-1]\n",
    "\n",
    "# Ende eigener Code\n",
    "\n",
    "print(nth_smallest([4, 5, 7, 3, 1, 1], 1))\n",
    "print(nth_smallest([4, 5, 7, 3, 1, 1, 3], 2))\n",
    "print(nth_smallest([4, 4, 4, 4, 5], 3))"
   ]
  },
  {
   "cell_type": "markdown",
   "id": "6f28ee9a-5ad9-4abe-961d-215ebbe58be7",
   "metadata": {},
   "source": [
    "<div id=\"Aufgabe8\" style=\"margin:0px; padding:10px; border-style:solid; border-width:2px; border-color:green;\">\n",
    "\n",
    "<img src=\"img/dumbbell.png\" style=\"float:right; width:100px\">\n",
    "\n",
    "<span style=\"padding:5px; border-radius:5px; background-color:green; color:white\">Aufgabe</span>\n",
    "\n",
    "Definiere nun `isbn_dict(keys, values)` so dass aus den zwei vorgegebenen Listen mit Hilfe der `zip()` Funktion und einer Dictionary Comprehension ein Dictionary erzeugt wird, das alle keys und values beinhaltet, für die im entsprechenden key der String \"ISBN\" vorkommt. Dieses Dictionary soll dann zurückgegeben werden. Das erwartete Resultat von `print(isbn_dict(keys, values))` ist also: `{'ISBN-10': '3-83627-926-6', 'ISBN-13': '978-3-83627-926-0'}`.\n",
    "\n",
    "</div>"
   ]
  },
  {
   "cell_type": "code",
   "execution_count": 152,
   "id": "fc645a12-102c-468c-8cca-175d98ad6f41",
   "metadata": {},
   "outputs": [
    {
     "name": "stdout",
     "output_type": "stream",
     "text": [
      "{'ISBN-10': '3-83627-926-6', 'ISBN-13': '978-3-83627-926-0'}\n"
     ]
    }
   ],
   "source": [
    "keys = [\"ISBN-10\", \"ISBN-13\", \"Auflage\", \"Herausgeber\", \"Erscheinungsjahr\", \"Sprache\", \"Seitenzahl\"]\n",
    "values = [\"3-83627-926-6\", \"978-3-83627-926-0\", \"6.\", \"Rheinwerk Computing\", \"2020\", \"Deutsch\", \"1079\"]\n",
    "\n",
    "def isbn_dict(keys, values):\n",
    "\n",
    "# Beginn eigener Code\n",
    "    \n",
    "    book_dict = dict(zip(keys, values))\n",
    "    book_isbn = {k:v for (k,v) in book_dict.items() if \"ISBN\" in k}\n",
    "    return book_isbn\n",
    "\n",
    "# Ende eigener Code\n",
    "\n",
    "print(isbn_dict(keys, values))"
   ]
  },
  {
   "cell_type": "markdown",
   "id": "30861c51-7049-47cc-a902-6e8b6f35f127",
   "metadata": {},
   "source": [
    "***"
   ]
  },
  {
   "cell_type": "markdown",
   "id": "0163a144",
   "metadata": {},
   "source": [
    "# Credits\n",
    "\n",
    "<div>Hantel Icon von <a href=\"https://www.freepik.com\" title=\"Freepik\">Freepik</a> bei <a href=\"https://www.flaticon.com/\" title=\"Flaticon\">www.flaticon.com</a></div>\n"
   ]
  }
 ],
 "metadata": {
  "interpreter": {
   "hash": "1f249ec925ce4e150f1f00585c0a724a833d5f2a7ba7da4c93b858ce16dfa983"
  },
  "kernelspec": {
   "display_name": "Python 3 (ipykernel)",
   "language": "python",
   "name": "python3"
  },
  "language_info": {
   "codemirror_mode": {
    "name": "ipython",
    "version": 3
   },
   "file_extension": ".py",
   "mimetype": "text/x-python",
   "name": "python",
   "nbconvert_exporter": "python",
   "pygments_lexer": "ipython3",
   "version": "3.8.11"
  },
  "toc-autonumbering": true,
  "toc-showcode": false,
  "toc-showmarkdowntxt": false,
  "toc-showtags": false
 },
 "nbformat": 4,
 "nbformat_minor": 5
}
