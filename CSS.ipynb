{
 "cells": [
  {
   "cell_type": "markdown",
   "id": "88cf8c45-723a-40b5-ad61-56c1efbc3801",
   "metadata": {},
   "source": [
    "<img src=\"img/DN.png\" style=\"float:right;width:150px\">\n",
    "\n",
    "CSS\n",
    "\n",
    "# Übungen in dieser Lektion\n",
    "\n",
    "* [Klasse definieren](#Aufgabe1)"
   ]
  },
  {
   "cell_type": "markdown",
   "id": "ec24d203-2563-4edc-bf6f-78dfd1ee90e0",
   "metadata": {},
   "source": [
    "# CSS\n",
    "\n",
    "**CSS** (Cascading Style Sheet) erfüllt die Aufgabe, das Aussehen von Elementen mit bestimmten Funktionen festzulegen. Mit Hilfe von CSS wird also festgelegt, wie beispielsweise schlussendlich eine Überschrift erster Ordnung auszusehen hat. Dies wird als CSS Style bezeichnet.\n",
    "\n",
    "## Trennung von Funktion und Aussehen\n",
    "\n",
    "Die Idee von HTML ist die strikte **Trennung von Funktion und Aussehen**. HTML legt fest, was die Funktion eines Elements ist (bspw. Überschrift oder Paragraph). In HTML selbst wird aber nicht festgelegt, wie diese Elemente grafisch dargestellt werden. Beim `<h1>` Tag ist also grundsätzlich nicht festgelegt, wie eine solche Überschrift erster Stufe auszusehen hat.\n",
    "\n",
    "Dass ein Browser bspw. verschiedene Ordnungen von Überschriften unterschiedlich anzeigt, auch wenn per HTML nur die Funktion, nämlich 'Überschrift', festgelegt wurde und zum Aussehen noch nichts näher spezifiziert wurde, ist der Tatsache geschuldet, dass jeder Browser bestimmte Standardwerte zum Aussehen der verschiedenen HTML Elemente hinterlegt hat.\n",
    "\n",
    "## Besonderheiten von CSS in Jupyter Notebooks\n",
    "\n",
    "Da Jupyter Notebooks selbst im Browser ausgeführt werden und damit im Kern aus HTML und CSS bestehen, kann das Festlegen von CSS Styles unerwartete (und unerwünschte) Nebenwirkungen haben. Wird also beispielsweise der Style für eine Überschrift erster Ordnung (neu) festgelegt, werden alle Überschriften erster Ordnung im Gesamten Dokument entsprechend geändert.\n",
    "\n",
    "Falls man solche selbst definierten Styles aus dem Jupyter Interface wieder entfernen möchte, kann man das mit Hilfe des Befehls 'Restart Kernel and Clear All Outputs...' aus dem Menu 'Kernel' erreichen.\n",
    "\n",
    "## CSS Styles festlegen\n",
    "\n",
    "CSS Styles werden innherhalb eines `<style>` Tags festgelegt. Dazu muss zuerst mit einem **CSS Selector** festgelegt werden, auf welche Elemente sich die nachfolgend definierten Styles beziehen sollen. Anschliessend können innerhalb von geschweiften Klammern `{}` verschiedene Attribute festgelegt werden, die das Aussehen der entsprechenden Elemente bestimmen:"
   ]
  },
  {
   "cell_type": "code",
   "execution_count": 1,
   "id": "f90a232a-9327-45e0-98ea-53ca569ab141",
   "metadata": {},
   "outputs": [
    {
     "data": {
      "text/html": [
       "\n",
       "<style>\n",
       "    h1 {\n",
       "        background-color:darkorange;\n",
       "        border-width: 10px;\n",
       "        border-style: solid;\n",
       "        border-color: green;\n",
       "        padding: 10px;\n",
       "    }\n",
       "</style>\n",
       "<h1>Meine spannende Überschrift</h1>\n"
      ],
      "text/plain": [
       "<IPython.core.display.HTML object>"
      ]
     },
     "metadata": {},
     "output_type": "display_data"
    }
   ],
   "source": [
    "%%HTML\n",
    "\n",
    "<style>\n",
    "    h1 {\n",
    "        background-color:darkorange;\n",
    "        border-width: 10px;\n",
    "        border-style: solid;\n",
    "        border-color: green;\n",
    "        padding: 10px;\n",
    "    }\n",
    "</style>\n",
    "<h1>Meine spannende Überschrift</h1>"
   ]
  },
  {
   "cell_type": "markdown",
   "id": "56641663-1245-4b7b-885c-cc6bfba61b73",
   "metadata": {},
   "source": [
    "Der Selektor im obigen Beispiel ist `h1` und betrifft damit alle Überschriften erster Ordnung. Wie unschwer erkannt werden kann, sind nun alle Überschriften erster Ordnung im ganzen Notebook entsprechend verändert. Dies kann wie erwähnt mit einem Kernel Neustart rückgängig gemacht werden."
   ]
  },
  {
   "cell_type": "markdown",
   "id": "81701b85-1a0e-4b01-ac3c-f8e1833b0eeb",
   "metadata": {},
   "source": [
    "## Klassen und IDs\n",
    "\n",
    "Damit die CSS Styles (und auch JavaScript, siehe später) gezielter auf bestimmte HTML Elemente wirken können, können HTML Tags **Klassen** und **IDs** zugewiesen werden. Klassen und IDs unterscheiden sich dadurch, dass Klassen mehrfach zugewiesen werden können und IDs nur einmal (wie es die Namen entsprechend implizieren):"
   ]
  },
  {
   "cell_type": "code",
   "execution_count": 3,
   "id": "93f5096c-1236-4558-8f20-77b4d915c229",
   "metadata": {},
   "outputs": [
    {
     "data": {
      "text/html": [
       "\n",
       "<h1 class=\"myclass\">Meine Überschrift mit Klasse 'myclass'</h1>\n"
      ],
      "text/plain": [
       "<IPython.core.display.HTML object>"
      ]
     },
     "metadata": {},
     "output_type": "display_data"
    }
   ],
   "source": [
    "%%html\n",
    "\n",
    "<h1 class=\"myclass\">Meine Überschrift mit Klasse 'myclass'</h1>"
   ]
  },
  {
   "cell_type": "markdown",
   "id": "2cfab00f-943e-4b71-a973-a4127c9ccae4",
   "metadata": {},
   "source": [
    "Solange für eine bestimmte Klasse kein spezifisches Styling festgelegt wurde, bewirkt das Zuweisen einer Klasse zu einem HTML Element keine sichtbare Veränderung."
   ]
  },
  {
   "cell_type": "code",
   "execution_count": 3,
   "id": "a401fc5a-5c80-4734-98fd-ca9d8ba0ca9d",
   "metadata": {},
   "outputs": [
    {
     "data": {
      "text/html": [
       "\n",
       "<style>\n",
       "    .fancy {\n",
       "        background-color:darkorange;\n",
       "        border-width: 10px;\n",
       "        border-style: solid;\n",
       "        border-color: green;\n",
       "        padding: 10px;\n",
       "    }\n",
       "</style>\n",
       "\n",
       "<h1 class=\"fancy\">Meine total abgefahrene Überschrift</h1>\n",
       "<h1>Etwas langweiligere Überschrift</h1>\n"
      ],
      "text/plain": [
       "<IPython.core.display.HTML object>"
      ]
     },
     "metadata": {},
     "output_type": "display_data"
    }
   ],
   "source": [
    "%%html\n",
    "\n",
    "<style>\n",
    "    .fancy {\n",
    "        background-color:darkorange;\n",
    "        border-width: 10px;\n",
    "        border-style: solid;\n",
    "        border-color: green;\n",
    "        padding: 10px;\n",
    "    }\n",
    "</style>\n",
    "\n",
    "<h1 class=\"fancy\">Meine total abgefahrene Überschrift</h1>\n",
    "<h1>Etwas langweiligere Überschrift</h1>"
   ]
  },
  {
   "cell_type": "markdown",
   "id": "3324d6a4-6dbb-4ff1-8674-24849ddf3caa",
   "metadata": {},
   "source": [
    "Sobald nun aber zu einer zugewiesenen Klasse auch ein CSS Styling existiert, werden die Änderungen am Aussehen sichtbar. Im obigen Beispiel ist es aber so, dass die Überschrift `<h1>` ohne zugewiesene Klasse durch das CSS Styling nicht verändert wird, weil dieses durch den Selektor `.fancy` nur auf die Klasse 'fancy' wirkt."
   ]
  },
  {
   "cell_type": "markdown",
   "id": "68103157-2d89-4e32-8fd0-2bba4bcf85ca",
   "metadata": {},
   "source": [
    "## Selektoren\n",
    "\n",
    "Es existieren verschiedene Selektoren, um CSS Styles festzulegen:\n",
    "\n",
    "* der Universalselektor `*` wählt alle Elemente aus\n",
    "* der Typselektor `tag` wählt das HTML Element mit dem Namen 'tag' aus\n",
    "* der Klassenselektor `.class` wählt alle Elemente mit der Klasse 'class' aus\n",
    "* der ID-Selektor `#id` wählt das Element mit der ID 'id' aus\n",
    "\n",
    "Es existieren noch diverse weitere Selektoren, auf die wir hier aber nicht weiter eingehen. Mehr Infos dazu bspw. bei [selfhtml](https://wiki.selfhtml.org/wiki/CSS/Selektoren) oder [w3schools](https://www.w3schools.com/cssref/css_selectors.asp)."
   ]
  },
  {
   "cell_type": "markdown",
   "id": "4fedc34a-3723-4e63-b89b-41702b5064ea",
   "metadata": {},
   "source": [
    "## Das CSS Boxmodell\n",
    "\n",
    "Unter dem **CSS Boxmodell** (CSS box model) wird die Tatsache verstanden, dass viele HTML Elemente in einer sogenannten Box dargestellt werden. Das Aussehen dieser Box kann mit CSS auf verschiedenste Weise beeinflusst werden:"
   ]
  },
  {
   "cell_type": "code",
   "execution_count": 22,
   "id": "f4070a14-8ba2-4e3e-b18b-824340371e48",
   "metadata": {},
   "outputs": [
    {
     "data": {
      "text/html": [
       "\n",
       "<style>\n",
       "    \n",
       "    .box {\n",
       "        margin: 30px !important;\n",
       "        border-width: 20px;\n",
       "        border-style:solid;\n",
       "        border-color:#fec44f;\n",
       "        padding: 20px;\n",
       "        width: 300px;\n",
       "        background-color:#fff7bc;\n",
       "    }\n",
       "</style>\n",
       "\n",
       "<p class=\"box\">Die Bären (Ursidae) sind eine Säugetierfamilie aus der Ordnung der Raubtiere (Carnivora). \n",
       "In Abgrenzung zu den Kleinbären (Procyonidae) werden sie auch als Großbären oder Echte Bären \n",
       "bezeichnet. Die Familie umfasst acht Arten und zählt zur Überfamilie der Hundeartigen.</p>\n"
      ],
      "text/plain": [
       "<IPython.core.display.HTML object>"
      ]
     },
     "metadata": {},
     "output_type": "display_data"
    }
   ],
   "source": [
    "%%html\n",
    "\n",
    "<style>\n",
    "    \n",
    "    .box {\n",
    "        margin: 30px !important;\n",
    "        border-width: 20px;\n",
    "        border-style:solid;\n",
    "        border-color:#fec44f;\n",
    "        padding: 20px;\n",
    "        width: 300px;\n",
    "        background-color:#fff7bc;\n",
    "    }\n",
    "</style>\n",
    "\n",
    "<p class=\"box\">Die Bären (Ursidae) sind eine Säugetierfamilie aus der Ordnung der Raubtiere (Carnivora). \n",
    "In Abgrenzung zu den Kleinbären (Procyonidae) werden sie auch als Großbären oder Echte Bären \n",
    "bezeichnet. Die Familie umfasst acht Arten und zählt zur Überfamilie der Hundeartigen.</p>"
   ]
  },
  {
   "cell_type": "markdown",
   "id": "4ab8abdc-b984-4f9f-a106-9f36b5632cbf",
   "metadata": {},
   "source": [
    "## `<div>` und `<span>` Tags"
   ]
  }
 ],
 "metadata": {
  "kernelspec": {
   "display_name": "Python 3 (ipykernel)",
   "language": "python",
   "name": "python3"
  },
  "language_info": {
   "codemirror_mode": {
    "name": "ipython",
    "version": 3
   },
   "file_extension": ".py",
   "mimetype": "text/x-python",
   "name": "python",
   "nbconvert_exporter": "python",
   "pygments_lexer": "ipython3",
   "version": "3.10.0"
  },
  "toc-autonumbering": true,
  "toc-showcode": false,
  "toc-showmarkdowntxt": false,
  "toc-showtags": false
 },
 "nbformat": 4,
 "nbformat_minor": 5
}
