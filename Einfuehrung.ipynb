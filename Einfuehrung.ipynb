{
 "cells": [
  {
   "cell_type": "code",
   "execution_count": 3,
   "id": "2fabceca-5ca7-4e16-b67b-c0df3e979f42",
   "metadata": {
    "tags": []
   },
   "outputs": [
    {
     "data": {
      "text/html": [
       "\n",
       "<link rel=\"stylesheet\" href=\"styles/style.css\">\n"
      ],
      "text/plain": [
       "<IPython.core.display.HTML object>"
      ]
     },
     "metadata": {},
     "output_type": "display_data"
    }
   ],
   "source": [
    "%%html\n",
    "\n",
    "<link rel=\"stylesheet\" href=\"styles/style.css\">"
   ]
  },
  {
   "cell_type": "markdown",
   "id": "88cf8c45-723a-40b5-ad61-56c1efbc3801",
   "metadata": {},
   "source": [
    "<img src=\"img/DN.png\" style=\"float:right;width:150px\">\n",
    "\n",
    "Einführung in den Grundkurs Programmieren\n",
    "\n",
    "# Wie funktioniert \"Programmieren\"?\n",
    "\n",
    "Das ist ein \"Grundkurs Programmieren\". Aber was heisst überhaupt *Programmieren*? Unter Programmieren wird verstanden, dass einem Computer in einer sehr stark formalisierten Sprache, der sogenannten **Programmiersprache** Anweisungen gegeben werden, was er zu tun hat. Diese Programmiersprache wird mit Hilfe der Tastatur eingegeben (es gibt auch mehr \"mausbasierte\" Ansätze wie bspw. [Scratch](https://scratch.mit.edu/)). Die Summe dieser Befehle wird als **Programmcode** oder auch **Quellcode** oder **Quelltext** bezeichnet. Solange Programmcode nur aufgeschrieben wird, passiert noch gar nichts. Der Computer beginnt erst mit dem sogenannten **Ausführen** dieses Programmcodes damit, diese Befehle schrittweise auszuführen. Dies ist jeweils der spannende Moment, wenn klar wird, ob der Programmcode das bewirkt, was beabsichtigt worden ist.\n",
    "\n",
    "# Das PRIMM Modell\n",
    "\n",
    "Das pädagogische Konzept, auf dem der Grundkrus Programmieren aufgebaut ist, wird **PRIMM Modell** genannt. Die Erkenntnis dahinter ist, dass es ziemlich schwierig ist, direkt eigenen Programmcode zu schreiben und es diverse Vorstufen braucht, um damit vertraut zu werden. Dabei steht PRIMM für die Anfangsbuchstaben der benötigten Schritte beim Programmierenlernen:\n",
    "\n",
    "**P**redict, **R**un, **I**nvestigate, **M**odify, **M**ake\n",
    "\n",
    "Was damit gemeint ist:\n",
    "\n",
    "1. **P**redict: Versuche vorherzusagen, was ein bestimmter Programmcode auslösen wird, wenn du ihn ausführen wirst.\n",
    "2. **R**un: Führe das Programm aus, um zu sehen, was tatsächlich passiert.\n",
    "3. **I**nvestigate: Versuche die einzelnen Elemente des Programmcodes und deren Auswirkung zu verstehen.\n",
    "4. **M**odify: Passe den Programmcode an und studiere die entsprechenden Auswirkungen.\n",
    "5. **M**ake: Schreibe nun deinen eigenen Code, der genau das macht, was du möchtest.\n",
    "\n",
    "Im Grundkurs Programmieren wird daher relativ viel fertiger Programmcode zur Verfügung gestellt, mit dem Hinweis, dass es wichtig ist, diesen nicht sofort auszuführen, sondern wirklich zuerst selbstständig darüber nachzudenken, was passieren wird. Wer diesen Schritt leichtfertig überspringt, bringt sich um einen grossen Teil des Lerneffekts (nach Ausführen des Programms ist es meist deutlich einfacher zu erklären, wieso das passiert ist, was passiert ist).\n",
    "\n",
    "Wer mehr über das Thema PRIMM lesen möchte, der sei folgende Quellen empfohlen:[Quick Read: Using PRIMM to structure programming lessons](https://blog.teachcomputing.org/using-primm-to-structure-programming-lessons/)\n",
    "\n",
    "# Jupyter Lab\n",
    "\n",
    "Jupyter Lab ist eine Software, die es erlaubt, mit sogenannten **interaktiven Notebooks** zu arbeiten. Interaktiv bezieht sich darauf, dass diese Notebooks Programmiercode beinhalten können, den man direkt im Notebook *bearbeiten* und *ausführen* kann. Man sieht also sofort das Resultat von dem, was man programmiert hat (was beim Programmieren keine Selbstverständlichkeit ist).\n",
    "\n",
    "Jupyter Lab ist eine Software, die für die Endanwenderin vollständig im **Webbrowser** funktioniert. Um Jupyter Lab aufzurufen, muss man also auf eine Webadresse klicken, dann öffnet sich nach einer Weile die Programmierumgebung in einem neuen Browserfenster. Damit das so funktioniert, muss auf einem anderen Computer, der ebenfalls ans Internet angeschlossen ist (man spricht hier von einem Server) relativ umfangreiche Software gestartet und ausgeführt werden. Für unseren Grundkurs Programmieren läuft diese Serversoftware auf [Renkulab](https://renkulab.io/), das vom [Swiss Data Science Center](https://datascience.ch/) betrieben wird.\n",
    "\n",
    "Diese Server Software kann prinzipiell auch auf dem eigenen Computer installiert und ausgeführt werden, man spricht dann von einer sogenannten **lokalen Installation**, die eigentliche Bedienung geschieht aber weiterhin über den Webbrowser.\n",
    "\n",
    "## Aufbau von Jupyter Lab\n",
    "\n",
    "Jupyter Lab besteht aus verschiedenen Elementen. Die drei wichtigsten sind (jeweils mit den englischen Originalbegriffen):\n",
    "\n",
    "* Hauptfenster / main work area\n",
    "* Linke Seitenleiste / left sidebar\n",
    "* Menuleiste / menu bar\n",
    "\n",
    "Im Hauptfenster werden jeweils die eigentlichen Notebooks in separaten Tabs (analog zu Browser Tabs) angezeigt und bearbeitet. In der Menuleiste finden sich alle notwendigen Befehle, um mit den Notebooks zu arbeiten und in der linken Seitenleiste befinden sich wichtige Anzeigen, die man häufig im direkten Blickfeld haben möchte. Diese lassen sich über die ganz links befindlichen Buttons auswählen resp. kann mit einem erneuten Klick auf den aktiven Button die gesamte Seitenleiste ausgeblendet werden.\n",
    "\n",
    "## Notebookzellen\n",
    "\n",
    "Das Grundprinzip der interaktiven Notebooks ist, dass sich in ihnen verschiedene Inhalte wie Text, Bilder und Videos mit ausführbarem Quellcode kombinieren lassen. Das Notebook ist in sogenannten **Zellen** aufgebaut. Eine Zelle beinhaltet entweder:\n",
    "\n",
    "* *Inhalt* oder \n",
    "* *Quellcode*\n",
    "\n",
    "**Inhaltszellen** benutzen [Markdown](https://de.wikipedia.org/wiki/Markdown) als einfache Möglichkeit, das Layout des Textes anzupassen. \n",
    "\n",
    "**Quellcode Zellen** beinhalten Programmcode, der in verschiedenen Sprachen geschrieben sein kann. Der Name Jupyter rührt daher, dass drei Programmiersprachen fundamental unterstützt werden: **Ju**lia, **Pyt**hon und **R**.\n",
    "\n",
    "Diese Möglichkeit, Lerninhalte direkt mit Quellcode zu kombinieren (was im klassichen Programmieren so grundsätzlich nicht möglich ist) unterstützt das **PRIMM** Lernmodell besonders gut.\n",
    "\n",
    "## Navigation durch ein Jupyter Notebook\n",
    "\n",
    "Einzelne Zellen lassen sich per Einfachklick auf die Zelle selektieren. Dies wird durch einen blauen Balken links von der Zelle angezeigt. Code Zellen sind danach sofort editierbar (Cursor ist am Ort, wo geklickt wurde). Um Markdown Inhaltszellen zu bearbeiten, braucht es einen Doppelklick. \n",
    "\n",
    "Um die Zellen auszuführen (Code: Programm wird ausgeführt, Inhalt: Markdown wird gerendert) kann man jederzeit während der Bearbeitung einer Zelle Shift+Enter drücken. Damit wird auch automatisch die nächste Zelle selektiert (wenn man nur die aktuelle Zelle ausführen will ohne die nächste zu selektieren, kann man Ctrl+Enter drücken).\n",
    "\n",
    "Aus programmiertechnischer Sicht ist es wichtig zu verstehen, dass alle Code Zellen eines Notebooks zusammenhängen. Wenn also in irgendeiner Zelle eine Variable definiert wurde, kann in einer anderen Zelle darauf zugegriffen werden. Es spielt dabei keine Rolle, ob die entsprechende Zelle weiter oben oder unten im Notebook auftaucht, allein die Reihenfolge der Ausführung ist entscheidend. Diese Ausführungsreihenfolge wird mit einer Nummer links von der Zelle in eckigen Klammern aufgeführt, sobald die Zelle ausgeführt wurde.\n",
    "\n",
    "Um das Inhaltsverzeichnis eines Notebooks zu sehen, muss im Bereich der linken Seitenleiste das Symbol mit den drei Punkten und Strichen <img src=\"img/inhaltsverzeichnis.png\" width=\"25px\"> geklickt werden, dann öffnet sich ein Inhaltsverzeichnis. Dieses Inhaltsverzeichnis und auch das Dokument selbst kann durch Klicken auf den Knopf mit den Zahlen 1 bis 3 und den Strichen <img src=\"img/nummerierung.png\" width=\"25px\"> dynamisch nummeriert werden.\n",
    "\n",
    "## Unterschiede zwischen Jupyter Notebook und Jupyter Lab\n",
    "\n",
    "Das Jupyter Notebook ist grundsätzlich das eigentliche Dokument mit den Inhalten. Das Jupyter Lab stellt die \"Infrastruktur\" zur Verfügung, in welchem diese Jupyter Notebooks bearbeitet und ausgeführt werden können. Historisch gewachsen kann man aber auch die Notebooks ohne Lab direkt öffnen und bearbeiten (in einer weniger umfangreichen Anwendung). Wir nutzen aber Jupyter Lab für die Arbeit mit den Jupyter Notebooks. Wenn das Notebook plötzlich so ausschaut wie in der nachfolgenden Abbildung, dann seid ihr in der Direktansicht von Jupyter Notebook ausserhalb von Jupyter Lab gelandet. <img src=\"img/nolab.jpg\" style=\"float:right;width:100%\">\n",
    "\n",
    "## Notebooks lokal speichern\n",
    "\n",
    "Da Jupyter Lab komplett Browserbasiert ist, ist das arbeiten mit Dateien etwas ungewöhnlich. Im **File Browser** in der linken Seitenleiste werden die zur Verfügung stehenden Dateien aufgelistet. Dies ist grundsätzlich keine Ansicht des lokalen Dateisystems auf dem Computer, sondern eine Ansicht der Dateien auf dem Server. Auf Dateien auf dem Server besteht grundsätzlich keine Schreibberechtigung, Änderungen die an Notebooks vorgenommen werden, lassen sich also nicht ganz einfach auf dem Server speichern (wir haben ja mehrere hundert Studierende, die auf die gleichen Dateien auf dem Server zugreifen möchten).\n",
    "\n",
    "Ein Ausweg besteht darin, geänderte Notebooks (und wir ermutigen ja sehr dazu, diese Notebooks anzupassen und damit zu experimentieren) auf den eigenen Computer *herunterzuladen*. Dies kann mit dem Menubefehl \"File/Download\" geschehen. Danach kann das Notebook im lokalen Dateisystem gespeichert werden und bei der nächsten Gelegenheit im File Browser über den Knopf \"Upload Files\" wieder in den Webbrowser geladen werden."
   ]
  },
  {
   "cell_type": "markdown",
   "id": "f8d89ba6-0fae-45b6-9238-497853c27a35",
   "metadata": {},
   "source": [
    "# Vorschau\n",
    "\n",
    "Nachfolgend ein paar Zellen mit HTML, CSS, JavaScript und Python, um ein wenig \"gluschtig\" zu machen, was mit dem Wissen aus dem Grundkurs Programmieren alles möglich ist:\n",
    "\n",
    "## HTML Zelle"
   ]
  },
  {
   "cell_type": "code",
   "execution_count": 4,
   "id": "59c63470-27b8-45fb-b945-2938e1491f27",
   "metadata": {},
   "outputs": [
    {
     "data": {
      "text/html": [
       "\n",
       "<div class=\"html-output\">\n",
       "\n",
       "<table>\n",
       "    <tr>\n",
       "        <th>Hochschule</th>\n",
       "        <th>Abkürzung</th>\n",
       "        <th>Anzahl Studierende</th>\n",
       "        <th>Gründungsjahr</th>\n",
       "        <th>Website</th>\n",
       "    </tr>\n",
       "    <tr>\n",
       "        <td>Berner Fachhochschule</td>\n",
       "        <td>BFH</td>\n",
       "        <td>6979</td>\n",
       "        <td>1997</td>\n",
       "        <td><a href=\"https://www.bfh.ch\">bfh.ch</a></td>\n",
       "    </tr>\n",
       "    <tr>\n",
       "        <td>Pädagogische Hochschule Bern</td>\n",
       "        <td>PHBern</td>\n",
       "        <td>3263</td>\n",
       "        <td>2005</td>\n",
       "        <td><a href=\"https://www.phbern.ch\">phbern.ch</a></td>\n",
       "    </tr>\n",
       "    <tr>\n",
       "        <td>Universität Bern</td>\n",
       "        <td>Uni Bern</td>\n",
       "        <td>19230</td>\n",
       "        <td>1834</td>\n",
       "        <td><a href=\"https://www.unibe.ch\">unibe.ch</a></td>\n",
       "    </tr>\n",
       "</table>\n",
       "\n",
       "</div>\n"
      ],
      "text/plain": [
       "<IPython.core.display.HTML object>"
      ]
     },
     "metadata": {},
     "output_type": "display_data"
    }
   ],
   "source": [
    "%%html\n",
    "\n",
    "<div class=\"html-output\">\n",
    "\n",
    "<table>\n",
    "    <tr>\n",
    "        <th>Hochschule</th>\n",
    "        <th>Abkürzung</th>\n",
    "        <th>Anzahl Studierende</th>\n",
    "        <th>Gründungsjahr</th>\n",
    "        <th>Website</th>\n",
    "    </tr>\n",
    "    <tr>\n",
    "        <td>Berner Fachhochschule</td>\n",
    "        <td>BFH</td>\n",
    "        <td>6979</td>\n",
    "        <td>1997</td>\n",
    "        <td><a href=\"https://www.bfh.ch\">bfh.ch</a></td>\n",
    "    </tr>\n",
    "    <tr>\n",
    "        <td>Pädagogische Hochschule Bern</td>\n",
    "        <td>PHBern</td>\n",
    "        <td>3263</td>\n",
    "        <td>2005</td>\n",
    "        <td><a href=\"https://www.phbern.ch\">phbern.ch</a></td>\n",
    "    </tr>\n",
    "    <tr>\n",
    "        <td>Universität Bern</td>\n",
    "        <td>Uni Bern</td>\n",
    "        <td>19230</td>\n",
    "        <td>1834</td>\n",
    "        <td><a href=\"https://www.unibe.ch\">unibe.ch</a></td>\n",
    "    </tr>\n",
    "</table>\n",
    "\n",
    "</div>"
   ]
  },
  {
   "cell_type": "markdown",
   "id": "94797666-b791-4cb2-a78e-ef0536929fe5",
   "metadata": {},
   "source": [
    "## CSS Zelle"
   ]
  },
  {
   "cell_type": "code",
   "execution_count": 6,
   "id": "1e62bdf7-c257-4831-9bf3-e4b46b2ef775",
   "metadata": {},
   "outputs": [
    {
     "data": {
      "text/html": [
       "\n",
       "<style>\n",
       "    .fancy {\n",
       "        background-color:darkorange;\n",
       "        border-width: 10px;\n",
       "        border-style: solid;\n",
       "        border-color: green;\n",
       "        padding: 10px;\n",
       "    }\n",
       "</style>\n",
       "\n",
       "<h1 class=\"fancy\">Meine total abgefahrene Überschrift</h1>\n"
      ],
      "text/plain": [
       "<IPython.core.display.HTML object>"
      ]
     },
     "metadata": {},
     "output_type": "display_data"
    }
   ],
   "source": [
    "%%html\n",
    "\n",
    "<style>\n",
    "    .fancy {\n",
    "        background-color:darkorange;\n",
    "        border-width: 10px;\n",
    "        border-style: solid;\n",
    "        border-color: green;\n",
    "        padding: 10px;\n",
    "    }\n",
    "</style>\n",
    "\n",
    "<h1 class=\"fancy\">Meine total abgefahrene Überschrift</h1>"
   ]
  },
  {
   "cell_type": "markdown",
   "id": "7aa997af-c1c2-47ea-afd7-38abc2322b64",
   "metadata": {},
   "source": [
    "## JavaScript Zelle"
   ]
  },
  {
   "cell_type": "code",
   "execution_count": 9,
   "id": "61287621-8172-4b4d-8f5d-d3e457280662",
   "metadata": {},
   "outputs": [
    {
     "data": {
      "text/html": [
       "\n",
       "<script>\n",
       "    function isPrime() {\n",
       "        var resNode = document.createElement(\"h1\");\n",
       "        number = document.getElementById(\"prime\").value;\n",
       "        if(isNaN(number)) {\n",
       "            alert(\"Wert muss eine Zahl sein\");\n",
       "        } else {\n",
       "            var test = 2;\n",
       "            var factorFound = false;\n",
       "            do {\n",
       "                if (number % test == 0) {\n",
       "                    factorFound = true;\n",
       "                } else {\n",
       "                    test++;\n",
       "                }\n",
       "            }\n",
       "            while(factorFound == false && test < number);\n",
       "            if(factorFound == true) {\n",
       "                resNode.innerHTML = number + \" ist keine Primzahl, sie hat den kleinsten Teiler \" + test + \"!\";\n",
       "            } else {\n",
       "                resNode.innerHTML = number + \" ist eine Primzahl!\";\n",
       "            }\n",
       "            document.getElementById(\"result\").appendChild(resNode);\n",
       "        }\n",
       "    }\n",
       "</script>\n",
       "\n",
       "\n",
       "<input type=\"text\" id=\"prime\">\n",
       "<input type=\"button\" value=\"Primzahl?\" onclick=\"isPrime()\">\n",
       "<div id=\"result\"></div>\n"
      ],
      "text/plain": [
       "<IPython.core.display.HTML object>"
      ]
     },
     "metadata": {},
     "output_type": "display_data"
    }
   ],
   "source": [
    "%%html\n",
    "\n",
    "<script>\n",
    "    function isPrime() {\n",
    "        var resNode = document.createElement(\"h1\");\n",
    "        number = document.getElementById(\"prime\").value;\n",
    "        if(isNaN(number)) {\n",
    "            alert(\"Wert muss eine Zahl sein\");\n",
    "        } else {\n",
    "            var test = 2;\n",
    "            var factorFound = false;\n",
    "            do {\n",
    "                if (number % test == 0) {\n",
    "                    factorFound = true;\n",
    "                } else {\n",
    "                    test++;\n",
    "                }\n",
    "            }\n",
    "            while(factorFound == false && test < number);\n",
    "            if(factorFound == true) {\n",
    "                resNode.innerHTML = number + \" ist keine Primzahl, sie hat den kleinsten Teiler \" + test + \"!\";\n",
    "            } else {\n",
    "                resNode.innerHTML = number + \" ist eine Primzahl!\";\n",
    "            }\n",
    "            document.getElementById(\"result\").appendChild(resNode);\n",
    "        }\n",
    "    }\n",
    "</script>\n",
    "\n",
    "\n",
    "<input type=\"text\" id=\"prime\">\n",
    "<input type=\"button\" value=\"Primzahl?\" onclick=\"isPrime()\">\n",
    "<div id=\"result\"></div>\n"
   ]
  },
  {
   "cell_type": "markdown",
   "id": "774e9e8a-0f0d-4d41-946b-210cc68b5349",
   "metadata": {},
   "source": [
    "## Python Zelle"
   ]
  },
  {
   "cell_type": "code",
   "execution_count": 10,
   "id": "64159296-d80c-48dd-ae5f-a0125c15019c",
   "metadata": {},
   "outputs": [
    {
     "name": "stdout",
     "output_type": "stream",
     "text": [
      "[[190 252  39  65 235 219 212 189 214  78]\n",
      " [137 220 163 143  71 113  36 113  91  22]\n",
      " [ 84 235 253  29 135 228  90 179  44 121]\n",
      " [ 54  33  97 160  80  55  74  99 205 153]\n",
      " [ 38 158 251  16 106 121 219 158 127 131]\n",
      " [107 105  50   7 100  41  94 161 128 167]\n",
      " [ 20 152  55  14  61 244  62 116  12 156]\n",
      " [154  97 133 181 194  45 150 175 116 197]\n",
      " [195 115 145  38  29 192 192 101   9  57]\n",
      " [139 132  55 192  19 102 168   4  97 196]]\n"
     ]
    },
    {
     "data": {
      "text/plain": [
       "<matplotlib.image.AxesImage at 0x288af9d5a20>"
      ]
     },
     "execution_count": 10,
     "metadata": {},
     "output_type": "execute_result"
    },
    {
     "data": {
      "image/png": "[encoded data removed]",
      "text/plain": [
       "<Figure size 432x288 with 1 Axes>"
      ]
     },
     "metadata": {
      "needs_background": "light"
     },
     "output_type": "display_data"
    }
   ],
   "source": [
    "%matplotlib inline\n",
    "\n",
    "import numpy as np\n",
    "from matplotlib import pyplot as plt\n",
    "\n",
    "array = np.random.randint(low = 0, high = 255, size = (10,10))\n",
    "print(array)\n",
    "\n",
    "plt.imshow(array, cmap = 'gray')"
   ]
  }
 ],
 "metadata": {
  "kernelspec": {
   "display_name": "Python 3 (ipykernel)",
   "language": "python",
   "name": "python3"
  },
  "language_info": {
   "codemirror_mode": {
    "name": "ipython",
    "version": 3
   },
   "file_extension": ".py",
   "mimetype": "text/x-python",
   "name": "python",
   "nbconvert_exporter": "python",
   "pygments_lexer": "ipython3",
   "version": "3.10.0"
  },
  "toc-autonumbering": true,
  "toc-showcode": false,
  "toc-showmarkdowntxt": false,
  "toc-showtags": false
 },
 "nbformat": 4,
 "nbformat_minor": 5
}
